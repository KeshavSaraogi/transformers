{
 "cells": [
  {
   "cell_type": "code",
   "execution_count": 1,
   "metadata": {},
   "outputs": [],
   "source": [
    "import os\n",
    "import pandas as pd\n",
    "import sqlite3\n",
    "from sqlalchemy import create_engine\n",
    "from langchain_openai import ChatOpenAI\n",
    "from langchain_experimental.agents import create_csv_agent\n",
    "from langchain_community.utilities import SQLDatabase\n",
    "from langchain_community.agent_toolkits import SQLDatabaseToolkit, create_sql_agent\n",
    "from langchain_core.prompts import PromptTemplate\n",
    "from langchain_core.output_parsers import StrOutputParser"
   ]
  },
  {
   "cell_type": "code",
   "execution_count": 2,
   "metadata": {},
   "outputs": [],
   "source": [
    "from dotenv import load_dotenv\n",
    "load_dotenv()\n",
    "\n",
    "os.environ[\"OPENAI_API_KEY\"] = os.getenv(\"OPENAI_API_KEY\")"
   ]
  },
  {
   "cell_type": "code",
   "execution_count": 3,
   "metadata": {},
   "outputs": [],
   "source": [
    "finance_file = \"/Users/keshavsaraogi/Desktop/indorama/eureka-data/clean-csv/cleaned_finance_packaging.csv\"\n",
    "inventory_file = \"/Users/keshavsaraogi/Desktop/indorama/eureka-data/clean-csv/cleaned_inventory_packaging.csv\"\n",
    "spend_file = \"/Users/keshavsaraogi/Desktop/indorama/eureka-data/clean-csv/cleaned_spend_packaging.csv\"\n",
    "sales_file = \"/Users/keshavsaraogi/Desktop/indorama/eureka-data/clean-csv/cleaned_sales_packaging.csv\""
   ]
  },
  {
   "cell_type": "code",
   "execution_count": 4,
   "metadata": {},
   "outputs": [
    {
     "name": "stderr",
     "output_type": "stream",
     "text": [
      "/var/folders/f_/mxzw7mdx4qg8bs9xn0wbblsw0000gn/T/ipykernel_21980/3268019976.py:3: DtypeWarning: Columns (17) have mixed types. Specify dtype option on import or set low_memory=False.\n",
      "  inventory_df = pd.read_csv(inventory_file)\n",
      "/var/folders/f_/mxzw7mdx4qg8bs9xn0wbblsw0000gn/T/ipykernel_21980/3268019976.py:5: DtypeWarning: Columns (9) have mixed types. Specify dtype option on import or set low_memory=False.\n",
      "  sales_df = pd.read_csv(sales_file)\n"
     ]
    }
   ],
   "source": [
    "# Load CSV into pandas\n",
    "finance_df = pd.read_csv(finance_file)\n",
    "inventory_df = pd.read_csv(inventory_file)\n",
    "spend_df = pd.read_csv(spend_file)\n",
    "sales_df = pd.read_csv(sales_file)"
   ]
  },
  {
   "cell_type": "code",
   "execution_count": 5,
   "metadata": {},
   "outputs": [],
   "source": [
    "spend_df['Purchase_Order_Date'] = pd.to_datetime(spend_df['Purchase_Order_Date'], format=\"%d.%m.%Y\")\n",
    "spend_df['Purchase_Order_Date'] = spend_df['Purchase_Order_Date'].dt.strftime(\"%Y-%m-%d\")"
   ]
  },
  {
   "cell_type": "code",
   "execution_count": 6,
   "metadata": {},
   "outputs": [],
   "source": [
    "def create_in_memory_db(df, table_name):\n",
    "    conn = sqlite3.connect(\":memory:\", check_same_thread=False)\n",
    "    df.to_sql(table_name, conn, index=False, if_exists=\"replace\")\n",
    "    return conn"
   ]
  },
  {
   "cell_type": "code",
   "execution_count": 7,
   "metadata": {},
   "outputs": [],
   "source": [
    "finance_db = create_in_memory_db(finance_df, \"finance\")\n",
    "inventory_db = create_in_memory_db(inventory_df, \"inventory\")\n",
    "spend_db = create_in_memory_db(spend_df, \"spend\")\n",
    "sales_db = create_in_memory_db(sales_df, \"sales\")"
   ]
  },
  {
   "cell_type": "code",
   "execution_count": 8,
   "metadata": {},
   "outputs": [],
   "source": [
    "finance_engine = create_engine(\"sqlite://\", creator=lambda: finance_db)\n",
    "inventory_engine = create_engine(\"sqlite://\", creator=lambda: inventory_db)\n",
    "spend_engine = create_engine(\"sqlite://\", creator=lambda: spend_db)\n",
    "sales_engine = create_engine(\"sqlite://\", creator=lambda: sales_db)"
   ]
  },
  {
   "cell_type": "code",
   "execution_count": 9,
   "metadata": {},
   "outputs": [],
   "source": [
    "finance_sql_db = SQLDatabase(engine=finance_engine, sample_rows_in_table_info=5)\n",
    "inventory_sql_db = SQLDatabase(engine=inventory_engine, sample_rows_in_table_info=5)\n",
    "spend_sql_db = SQLDatabase(engine=spend_engine, sample_rows_in_table_info=5)\n",
    "sales_sql_db = SQLDatabase(engine=sales_engine, sample_rows_in_table_info=5)"
   ]
  },
  {
   "cell_type": "code",
   "execution_count": 10,
   "metadata": {},
   "outputs": [],
   "source": [
    "llm = ChatOpenAI(temperature=0.5, model=\"gpt-4o\")"
   ]
  },
  {
   "cell_type": "code",
   "execution_count": 11,
   "metadata": {},
   "outputs": [
    {
     "name": "stderr",
     "output_type": "stream",
     "text": [
      "/opt/anaconda3/envs/eureka-env/lib/python3.10/site-packages/langchain_experimental/agents/agent_toolkits/csv/base.py:57: DtypeWarning: Columns (17) have mixed types. Specify dtype option on import or set low_memory=False.\n",
      "  df = pd.read_csv(path, **_kwargs)\n",
      "/opt/anaconda3/envs/eureka-env/lib/python3.10/site-packages/langchain_experimental/agents/agent_toolkits/csv/base.py:57: DtypeWarning: Columns (9) have mixed types. Specify dtype option on import or set low_memory=False.\n",
      "  df = pd.read_csv(path, **_kwargs)\n"
     ]
    }
   ],
   "source": [
    "finance_csv_agent = create_csv_agent(llm, finance_file, verbose=True, allow_dangerous_code=True)\n",
    "inventory_csv_agent = create_csv_agent(llm, inventory_file, verbose=True, allow_dangerous_code=True)\n",
    "spend_csv_agent = create_csv_agent(llm, spend_file, verbose=True, allow_dangerous_code=True)\n",
    "sales_csv_agent = create_csv_agent(llm, sales_file, verbose=True, allow_dangerous_code=True)"
   ]
  },
  {
   "cell_type": "code",
   "execution_count": 12,
   "metadata": {},
   "outputs": [],
   "source": [
    "finance_toolkit = SQLDatabaseToolkit(db=finance_sql_db, llm=llm)\n",
    "inventory_toolkit = SQLDatabaseToolkit(db=inventory_sql_db, llm=llm)\n",
    "spend_toolkit = SQLDatabaseToolkit(db=spend_sql_db, llm=llm)\n",
    "sales_toolkit = SQLDatabaseToolkit(db=sales_sql_db, llm=llm)"
   ]
  },
  {
   "cell_type": "code",
   "execution_count": 13,
   "metadata": {},
   "outputs": [],
   "source": [
    "sql_agent_prompt_prefix = \"\"\"\n",
    "You are a SQL expert agent following ReAct reasoning.\n",
    "\n",
    "- You must ALWAYS output Thought -> Action -> Observation -> Final Answer.\n",
    "- DO NOT output meta commentary.\n",
    "- After seeing Observation results (SQL query output), ALWAYS extract concrete values.\n",
    "- ALWAYS summarize the result table to answer the user’s original question directly.\n",
    "- NEVER say \"the query successfully identifies...\" — always give actual values.\n",
    "- DO NOT wrap SQL code in markdown formatting or backticks.\n",
    "- ONLY output valid SQL without formatting.\n",
    "- If column names contain spaces, enclose them in double quotes.\n",
    "- The SQL dialect is SQLite.\n",
    "- ALWAYS use the available tools (sql_db_query) to execute your queries.\n",
    "- NEVER just write SQL queries.\n",
    "- ALWAYS call the action sql_db_query with the query as input.\n",
    "- You are allowed to chain multiple queries to answer the question.\n",
    "- If you encounter repeated errors or cannot execute the SQL query, still follow the ReAct format.\n",
    "- When unable to answer, output:\n",
    "Thought: I am unable to answer.\n",
    "Final Answer: Unable to retrieve the data due to internal error.\n",
    "- Do not write freeform explanations.\n",
    "- Never write paragraphs describing failure.\n",
    "- NEVER output markdown formatting.\n",
    "- NEVER output queries inside triple backticks or code fences.\n",
    "- ONLY output raw SQL text.\n",
    "- SQLite does not support '%q' for quarters.\n",
    "- To compute quarter, use strftime('%m', \"Date\") and CASE WHEN statements.\n",
    "- NEVER use '%q' inside strftime() queries.\n",
    "\"\"\""
   ]
  },
  {
   "cell_type": "code",
   "execution_count": 14,
   "metadata": {},
   "outputs": [],
   "source": [
    "finance_sql_agent = create_sql_agent(llm=llm, toolkit=finance_toolkit, verbose=True, max_iterations=40, max_execution_time=120, handle_parsing_errors=True, early_stopping_method=\"generate\",prefix=sql_agent_prompt_prefix)\n",
    "inventory_sql_agent = create_sql_agent(llm=llm, toolkit=inventory_toolkit, verbose=True, max_iterations=40, max_execution_time=120, handle_parsing_errors=True, early_stopping_method=\"generate\", prefix=sql_agent_prompt_prefix)\n",
    "spend_sql_agent = create_sql_agent(llm=llm, toolkit=spend_toolkit, verbose=True, max_iterations=40, max_execution_time=120, handle_parsing_errors=True, early_stopping_method=\"generate\",prefix=sql_agent_prompt_prefix)\n",
    "sales_sql_agent = create_sql_agent(llm=llm, toolkit=sales_toolkit, verbose=True, max_iterations=40, max_execution_time=120, handle_parsing_errors=True, early_stopping_method=\"generate\",prefix=sql_agent_prompt_prefix)"
   ]
  },
  {
   "cell_type": "code",
   "execution_count": 15,
   "metadata": {},
   "outputs": [],
   "source": [
    "def get_column_names(filepath):\n",
    "    df = pd.read_csv(filepath, nrows=1)\n",
    "    return list(df.columns)\n",
    "\n",
    "finance_columns = get_column_names(finance_file)\n",
    "inventory_columns = get_column_names(inventory_file)\n",
    "spend_columns = get_column_names(spend_file)\n",
    "sales_columns = get_column_names(sales_file)"
   ]
  },
  {
   "cell_type": "code",
   "execution_count": 16,
   "metadata": {},
   "outputs": [],
   "source": [
    "dataset_routing_prompt = PromptTemplate.from_template(\"\"\"\n",
    "You are a dataset routing assistant.\n",
    "\n",
    "Here are the columns for each dataset:\n",
    "\n",
    "- finance: {finance_cols}\n",
    "- inventory: {inventory_cols}\n",
    "- spend: {spend_cols}\n",
    "- sales: {sales_cols}\n",
    "\n",
    "Given the following user query:\n",
    "\"{query}\"\n",
    "\n",
    "Decide which dataset this query should be routed to.\n",
    "\n",
    "Respond ONLY with one word: finance, inventory, spend, or sales.\n",
    "\"\"\")"
   ]
  },
  {
   "cell_type": "code",
   "execution_count": 17,
   "metadata": {},
   "outputs": [],
   "source": [
    "def route_dataset(user_query: str) -> str:\n",
    "    chain = dataset_routing_prompt | llm | StrOutputParser()\n",
    "\n",
    "    prompt_input = {\n",
    "        \"query\": user_query,\n",
    "        \"finance_cols\": \", \".join(finance_columns),\n",
    "        \"inventory_cols\": \", \".join(inventory_columns),\n",
    "        \"spend_cols\": \", \".join(spend_columns),\n",
    "        \"sales_cols\": \", \".join(sales_columns),\n",
    "    }\n",
    "\n",
    "    result = chain.invoke(prompt_input).strip().lower()\n",
    "\n",
    "    if result not in {\"finance\", \"inventory\", \"spend\", \"sales\"}:\n",
    "        print(f\"⚠️ Unexpected dataset output: {result} — defaulting to 'finance'\")\n",
    "        return \"finance\"\n",
    "    \n",
    "    return result"
   ]
  },
  {
   "cell_type": "code",
   "execution_count": 18,
   "metadata": {},
   "outputs": [],
   "source": [
    "agent_type_prompt = PromptTemplate.from_template(\"\"\"\n",
    "You are a routing assistant that decides how to process data queries.\n",
    "Given the following user query:\n",
    "\"{query}\"\n",
    "Decide whether it should be handled using SQL (for aggregation, filtering, grouping, numeric analysis),\n",
    "or using CSV (for visualization, listing, non-aggregated exploration).\n",
    "Read dates as DD-MM-YYYY.\n",
    "Respond only with: sql or csv.\n",
    "\"\"\")\n",
    "\n",
    "def route_agent_type(query: str) -> str:\n",
    "    chain = agent_type_prompt | llm | StrOutputParser()\n",
    "    result = chain.invoke({\"query\": query}).strip().lower()\n",
    "    if result not in {\"sql\", \"csv\"}:\n",
    "        return \"csv\"\n",
    "    return result"
   ]
  },
  {
   "cell_type": "code",
   "execution_count": 19,
   "metadata": {},
   "outputs": [],
   "source": [
    "PACKAGING_KNOWLEDGE = \"\"\"\n",
    "When asked for packaging spend, you should filter \"Material Group Description\" column using these values:\n",
    "'PET', 'BOTTLES', 'LABELS', 'CAPS', 'SEALS'.\n",
    "If no values match, return 0.\n",
    "Always handle column names with spaces by using double quotes.\n",
    "The column Purchase_Order_Date is stored in format YYYY-MM-DD.\n",
    "\"\"\""
   ]
  },
  {
   "cell_type": "code",
   "execution_count": 20,
   "metadata": {},
   "outputs": [],
   "source": [
    "def master_agent(user_query):\n",
    "    dataset = route_dataset(user_query)\n",
    "    agent_type = route_agent_type(user_query)\n",
    "\n",
    "    agents = {\n",
    "        \"finance\": {\"sql\": finance_sql_agent, \"csv\": finance_csv_agent},\n",
    "        \"inventory\": {\"sql\": inventory_sql_agent, \"csv\": inventory_csv_agent},\n",
    "        \"spend\": {\"sql\": spend_sql_agent, \"csv\": spend_csv_agent},\n",
    "        \"sales\": {\"sql\": sales_sql_agent, \"csv\": sales_csv_agent},\n",
    "    }\n",
    "\n",
    "    # Inject grounding for spend queries\n",
    "    if dataset == \"spend\" and agent_type == \"sql\":\n",
    "        user_query = f\"{user_query}\\n\\n{PACKAGING_KNOWLEDGE}\"\n",
    "\n",
    "    agent = agents[dataset][agent_type]\n",
    "    return agent.invoke(user_query)"
   ]
  },
  {
   "cell_type": "markdown",
   "metadata": {},
   "source": [
    "## FINANCE PACKAGING"
   ]
  },
  {
   "cell_type": "code",
   "execution_count": 21,
   "metadata": {},
   "outputs": [],
   "source": [
    "# result = master_agent(\"What is the sum of quantity mt for company TH14 in 2024??\")\n",
    "# print(\"\\n🧠 Response:\\n\", result)"
   ]
  },
  {
   "cell_type": "code",
   "execution_count": 22,
   "metadata": {},
   "outputs": [],
   "source": [
    "#result = master_agent(\"Which customer name had the highest total ending balance in global currency for company code TH14?\")\n",
    "#print(\"\\n🧠 Response:\\n\", result)"
   ]
  },
  {
   "cell_type": "code",
   "execution_count": 23,
   "metadata": {},
   "outputs": [],
   "source": [
    "#result = master_agent(\"What is the sum of ending balance of cusomter PEPSI COLA PRODUCTS PHILIPPINES INC in 2024?\")\n",
    "#print(\"\\n🧠 Response:\\n\", result)"
   ]
  },
  {
   "cell_type": "code",
   "execution_count": 24,
   "metadata": {},
   "outputs": [],
   "source": [
    "#result = master_agent(\"Which company showed the most fluctuation for each quarter in ending balance in 2024?\")\n",
    "#print(result)"
   ]
  },
  {
   "cell_type": "code",
   "execution_count": 25,
   "metadata": {},
   "outputs": [],
   "source": [
    "#result = master_agent(\"Give me top 5 customers with the highest ending balance in 2024?\")\n",
    "#print(result)"
   ]
  },
  {
   "cell_type": "markdown",
   "metadata": {},
   "source": [
    "## INVENTORY PACKAGING"
   ]
  },
  {
   "cell_type": "code",
   "execution_count": 26,
   "metadata": {},
   "outputs": [],
   "source": [
    "#result = master_agent(\"Compare Sales Performance for each quarter in 2024 for company TH14\")\n",
    "#print(result)"
   ]
  },
  {
   "cell_type": "code",
   "execution_count": 27,
   "metadata": {},
   "outputs": [],
   "source": [
    "#result = master_agent(\"Compare Sales Performance for each quarter in 2024 for company TH14\")\n",
    "#print(result)"
   ]
  },
  {
   "cell_type": "code",
   "execution_count": 28,
   "metadata": {},
   "outputs": [],
   "source": [
    "#result = master_agent(\"Compare Sales Performance for each quarter in 2024 for company PH10\")\n",
    "#print(result)"
   ]
  },
  {
   "cell_type": "code",
   "execution_count": 29,
   "metadata": {},
   "outputs": [],
   "source": [
    "#result = master_agent(\"Compare Sales Performance for different quarters in 2024 for each company\")\n",
    "#print(result)"
   ]
  },
  {
   "cell_type": "code",
   "execution_count": 30,
   "metadata": {},
   "outputs": [],
   "source": [
    "#result = master_agent(\"For preform, can you compare the sales value for each quarter in 2024 for company PH10?\")\n",
    "#print(result)"
   ]
  },
  {
   "cell_type": "markdown",
   "metadata": {},
   "source": [
    "## TESTING"
   ]
  },
  {
   "cell_type": "code",
   "execution_count": 31,
   "metadata": {},
   "outputs": [],
   "source": [
    "#result = master_agent(\"for company TH14, please show me the sum of invoice net value for customer BEERTHIP BREWERY (1991) CO.,LTD in  January 2024?\")"
   ]
  },
  {
   "cell_type": "code",
   "execution_count": 32,
   "metadata": {},
   "outputs": [],
   "source": [
    "#result = master_agent(\"for division preform, I want to see the sum of invoice net value for customer BEERTHIP BREWERY (1991) CO.,LTD in  January 2024?\")\n",
    "#print(result)"
   ]
  },
  {
   "cell_type": "code",
   "execution_count": 33,
   "metadata": {},
   "outputs": [],
   "source": [
    "#result = master_agent(\"for division closure, I want to see the sum of invoice net value for customer BEERTHIP BREWERY (1991) CO.,LTD in  January 2024?\")\n",
    "#print(result)"
   ]
  },
  {
   "cell_type": "code",
   "execution_count": 34,
   "metadata": {},
   "outputs": [],
   "source": [
    "#result = master_agent(\"for division closure, I want to see the sum of invoice net value for customer BEERTHIP BREWERY (1991) CO.,LTD in  January 2024?\")\n",
    "#print(result)"
   ]
  },
  {
   "cell_type": "code",
   "execution_count": 35,
   "metadata": {},
   "outputs": [],
   "source": [
    "#result = master_agent(\"for division Closure, I want to see the sum of invoice net value for customer BEERTHIP BREWERY (1991) CO.,LTD in  January 2024?\")\n",
    "#print(result)"
   ]
  },
  {
   "cell_type": "code",
   "execution_count": 36,
   "metadata": {},
   "outputs": [],
   "source": [
    "#result = master_agent(\"Give me the sum of invoice net value in february 2024 where ship to region is Giza\")\n",
    "#print(result)"
   ]
  },
  {
   "cell_type": "code",
   "execution_count": 37,
   "metadata": {},
   "outputs": [],
   "source": [
    "#result = master_agent(\"for company code TH14, give me the materials that have declining sales performance for each quarter in 2024\")\n",
    "#print(result)"
   ]
  },
  {
   "cell_type": "code",
   "execution_count": 38,
   "metadata": {},
   "outputs": [],
   "source": [
    "#result = master_agent(\"for company code TH14, give me the materials that have the most declining sales performance for each quarter in 2024\")\n",
    "#print(result)"
   ]
  },
  {
   "cell_type": "code",
   "execution_count": 39,
   "metadata": {},
   "outputs": [],
   "source": [
    "#result = master_agent(\"For company code TH14, give me quarterly sales performance for the most declining material in 2024. Give me results for each quarter\")\n",
    "#print(result)"
   ]
  },
  {
   "cell_type": "code",
   "execution_count": 40,
   "metadata": {},
   "outputs": [],
   "source": [
    "#result = master_agent(\"Give me the top 5 customers in company TH14 in 2024\")"
   ]
  },
  {
   "cell_type": "code",
   "execution_count": 41,
   "metadata": {},
   "outputs": [],
   "source": [
    "#result = master_agent(\"Give me sales performance for PEPSI-COLA PRODUCTS PHILIPPINES, INC in 2024?\")\n",
    "#print(result)"
   ]
  },
  {
   "cell_type": "code",
   "execution_count": 42,
   "metadata": {},
   "outputs": [],
   "source": [
    "#result = master_agent(\"Give me comapny wise sales performance for PEPSI\")\n",
    "#print(result)"
   ]
  },
  {
   "cell_type": "code",
   "execution_count": 44,
   "metadata": {},
   "outputs": [
    {
     "name": "stdout",
     "output_type": "stream",
     "text": [
      "\n",
      "\n",
      "\u001b[1m> Entering new SQL Agent Executor chain...\u001b[0m\n",
      "\u001b[32;1m\u001b[1;3mAction: sql_db_list_tables\n",
      "Action Input: \u001b[0m\u001b[38;5;200m\u001b[1;3msales\u001b[0m\u001b[32;1m\u001b[1;3mI should check the schema of the 'sales' table to understand its structure and find relevant columns for the query.  \n",
      "Action: sql_db_schema  \n",
      "Action Input: sales  \u001b[0m\u001b[33;1m\u001b[1;3m\n",
      "CREATE TABLE sales (\n",
      "\t\"Company ID\" TEXT, \n",
      "\t\"Company Name\" TEXT, \n",
      "\t\"Sales Organization ID\" TEXT, \n",
      "\t\"Sales Organization Name\" TEXT, \n",
      "\t\"Plant ID\" TEXT, \n",
      "\t\"Plant Name\" TEXT, \n",
      "\t\"Sales Invoice Date\" TEXT, \n",
      "\t\"Billing Type\" TEXT, \n",
      "\t\"Customer\" TEXT, \n",
      "\t\"Sales Order No\" TEXT, \n",
      "\t\"Reference Document Number\" INTEGER, \n",
      "\t\"Sales Invoice No\" INTEGER, \n",
      "\t\"Material ID\" INTEGER, \n",
      "\t\"Material Description\" TEXT, \n",
      "\t\"Domestic or Export\" TEXT, \n",
      "\t\"Ship to Party\" TEXT, \n",
      "\t\"Ship to Region\" TEXT, \n",
      "\t\"Destination Country\" TEXT, \n",
      "\t\"Distribution Channel\" TEXT, \n",
      "\t\"Division\" TEXT, \n",
      "\t\"Incoterms Type\" TEXT, \n",
      "\t\"Incoterms Description\" TEXT, \n",
      "\t\"Packing Type\" TEXT, \n",
      "\t\"Unit of Measure\" TEXT, \n",
      "\t\"Usage Indicator for Material\" TEXT, \n",
      "\t\"Credit Days\" INTEGER, \n",
      "\t\"Billing Quantity in Sales Units\" REAL, \n",
      "\t\"Invoice Net value\" REAL, \n",
      "\t\"Tax Amount\" REAL, \n",
      "\t\"Quantity MT\" REAL, \n",
      "\t\"Sales Invoice Price(USD/MT)\" REAL, \n",
      "\t\"Marine Insurance(USD/MT)\" INTEGER, \n",
      "\t\"Freight Charge Road(USD/MT)\" REAL, \n",
      "\t\"Freight Charge Sea(USD/MT)\" REAL, \n",
      "\t\"Fobbing Charge Sea O/B(USD/MT)\" REAL, \n",
      "\t\"Destination Charge Sea(USD/MT)\" REAL, \n",
      "\t\"Freight Charge Air(USD/MT)\" REAL, \n",
      "\t\"Credit Insurance Cost(USD/MT)\" INTEGER, \n",
      "\t\"Interest Cost (CC)(USD/MT)\" REAL, \n",
      "\t\"Power Fuel Utilities(USD/MT)\" REAL, \n",
      "\t\"Packing Cost(USD/MT)\" REAL, \n",
      "\t\"MB Cost(USD/MT)\" REAL, \n",
      "\t\"Export Incentive(USD/MT)\" REAL\n",
      ")\n",
      "\n",
      "/*\n",
      "5 rows from sales table:\n",
      "Company ID\tCompany Name\tSales Organization ID\tSales Organization Name\tPlant ID\tPlant Name\tSales Invoice Date\tBilling Type\tCustomer\tSales Order No\tReference Document Number\tSales Invoice No\tMaterial ID\tMaterial Description\tDomestic or Export\tShip to Party\tShip to Region\tDestination Country\tDistribution Channel\tDivision\tIncoterms Type\tIncoterms Description\tPacking Type\tUnit of Measure\tUsage Indicator for Material\tCredit Days\tBilling Quantity in Sales Units\tInvoice Net value\tTax Amount\tQuantity MT\tSales Invoice Price(USD/MT)\tMarine Insurance(USD/MT)\tFreight Charge Road(USD/MT)\tFreight Charge Sea(USD/MT)\tFobbing Charge Sea O/B(USD/MT)\tDestination Charge Sea(USD/MT)\tFreight Charge Air(USD/MT)\tCredit Insurance Cost(USD/MT)\tInterest Cost (CC)(USD/MT)\tPower Fuel Utilities(USD/MT)\tPacking Cost(USD/MT)\tMB Cost(USD/MT)\tExport Incentive(USD/MT)\n",
      "EG11\tMedco Plast Co.systemsSAE\tEG15\tMedco Plast Co. P&P\tM100\tMedco Plast-Egypt\t2024-02-01\tDomestic Billing\tAJE GROUP Egypt for Soft Drinks S.A\t20152122\t30361438\t40234708\t2400005674\tHPF14.8A0,068B****,YA3,*****,D00,T1,BIG*\tDOMESTIC\tAJE GROUP Egypt for Soft Drinks S.A\tGiza\tEgypt\tDirect\tPreform\tDAP\tDelivered at Place\tNot assigned\tPC\tNot assigned\t75\t709632.0\t2457.34933364402\t344.029010272044\t10.502554\t233.976357907231\t0\t4.15814410635805\t0.0\t0.0\t0.0\t0.0\t0\t0.0\t30.3745620705659\t8.47617700614846\t21.3947618417851\t0.0\n",
      "EG11\tMedco Plast Co.systemsSAE\tEG15\tMedco Plast Co. P&P\tM100\tMedco Plast-Egypt\t2024-02-01\tDomestic Billing\tCOCA COLA CCH EGYPT\t20148836\t30375489\t40242842\t2404000193\tOPF45.0A0,144CL***,YA3,*****,***,T1,45**\tDOMESTIC\tCOCA COLA CCH EGYPT   - Tanta\tGharbia\tEgypt\tDirect\tPreform\tDAP\tDelivered at Place\tSTEEL CAGE\tPC\tNot assigned\t75\t291456.0\t25862.4588179706\t3620.74409211829\t13.11552\t1971.89732606641\t0\t9.50003417542088\t0.0\t0.0\t0.0\t0.0\t0\t0.0\t30.3760970958392\t10.4284485858238\t0.0\t0.0\n",
      "EG11\tMedco Plast Co.systemsSAE\tEG15\tMedco Plast Co. P&P\tM100\tMedco Plast-Egypt\t2024-02-01\tDomestic Billing\tPEPSI COLA - BAQSHAN - EGYPT\t20148805\t30336929\t40228723\t2004000794\tHPF49.0A0,141G*150,YA3,*****,D00,T1,PEPS\tDOMESTIC\tPEPSI COLA - BAQSHAN - EGYPT - Octo\tGiza\tEgypt\tDirect\tPreform\tDAP\tDelivered at Place\tSTEEL CAGE\tPC\tNot assigned\t75\t291456.0\t2405.26612167227\t336.737282924588\t14.281344\t168.420151609839\t0\t3.51246956251578\t0.0\t0.0\t0.0\t0.0\t0\t0.0\t30.8344274038476\t9.72015439702746\t12.6123577064372\t0.0\n",
      "EG11\tMedco Plast Co.systemsSAE\tEG15\tMedco Plast Co. P&P\tM100\tMedco Plast-Egypt\t2024-02-02\tDomestic Billing\tAJE GROUP Egypt for Soft Drinks S.A\t20152122\t30361440\t40234709\t2400005674\tHPF14.8A0,068B****,YA3,*****,D00,T1,BIG*\tDOMESTIC\tAJE GROUP Egypt for Soft Drinks S.A\tGiza\tEgypt\tDirect\tPreform\tDAP\tDelivered at Place\tNot assigned\tPC\tNot assigned\t75\t975744.0\t3379.08522751179\t473.072080731973\t14.441011\t233.992289564199\t0\t3.02431034426956\t0.0\t0.0\t0.0\t0.0\t0\t0.0\t30.3766265415827\t8.4767531073519\t21.3962159817866\t0.0\n",
      "EG11\tMedco Plast Co.systemsSAE\tEG15\tMedco Plast Co. P&P\tM100\tMedco Plast-Egypt\t2024-02-02\tDomestic Billing\tCOCA COLA CCH EGYPT\t20148836\t30360713\t40240969\t2404000193\tOPF45.0A0,144CL***,YA3,*****,***,T1,45**\tDOMESTIC\tCOCA COLA CCH EGYPT   - Tanta\tGharbia\tEgypt\tDirect\tPreform\tDAP\tDelivered at Place\tSTEEL CAGE\tPC\tNot assigned\t75\t278208.0\t24688.5705223434\t3456.39975013998\t12.51936\t1972.03135961769\t0\t9.97894540946944\t0.0\t0.0\t0.0\t0.0\t0\t0.0\t30.3781616711873\t10.4291573772726\t0.0\t0.0\n",
      "*/\u001b[0m\u001b[32;1m\u001b[1;3mTo determine the least selling material in 2024 for each company, I need to group the sales data by company and material, filter for the year 2024, and then find the material with the minimum sales quantity for each company.\n",
      "\n",
      "Action: sql_db_query_checker\n",
      "Action Input: \n",
      "SELECT \"Company Name\", \"Material Description\", SUM(\"Billing Quantity in Sales Units\") AS TotalQuantity\n",
      "FROM sales\n",
      "WHERE strftime('%Y', \"Sales Invoice Date\") = '2024'\n",
      "GROUP BY \"Company Name\", \"Material Description\"\n",
      "ORDER BY \"Company Name\", TotalQuantity ASC\n",
      "\u001b[0m\u001b[36;1m\u001b[1;3m```sql\n",
      "SELECT \"Company Name\", \"Material Description\", SUM(\"Billing Quantity in Sales Units\") AS TotalQuantity\n",
      "FROM sales\n",
      "WHERE strftime('%Y', \"Sales Invoice Date\") = '2024'\n",
      "GROUP BY \"Company Name\", \"Material Description\"\n",
      "ORDER BY \"Company Name\", TotalQuantity ASC\n",
      "```\u001b[0m\u001b[32;1m\u001b[1;3mAction: sql_db_query\n",
      "Action Input: \n",
      "SELECT \"Company Name\", \"Material Description\", MIN(TotalQuantity) AS LeastQuantity\n",
      "FROM (\n",
      "    SELECT \"Company Name\", \"Material Description\", SUM(\"Billing Quantity in Sales Units\") AS TotalQuantity\n",
      "    FROM sales\n",
      "    WHERE strftime('%Y', \"Sales Invoice Date\") = '2024'\n",
      "    GROUP BY \"Company Name\", \"Material Description\"\n",
      ")\n",
      "GROUP BY \"Company Name\"\n",
      "\u001b[0m\u001b[36;1m\u001b[1;3m[('Bevpak (Nigeria) Limited', 'SCRAP,BUCKET,USED,PLASTIC', 9.0), ('Indorama Ventures Packagi', 'OPF12.5A0,067CL***,DD3,*****,***,W1,****', -1658880.0), ('Medco Plast Co.systemsSAE', 'OBLL1*360CSM,26.0SM,RC2,N*******,W1,****', -22000.0), ('Petform (Thailand) Ltd', 'OCLAB38CAA,L7**,PL****,PA1,*****,SL5S1**', 0.0)]\u001b[0m\u001b[32;1m\u001b[1;3mFinal Answer: The least selling materials in 2024 for each company are as follows:\n",
      "- Bevpak (Nigeria) Limited: SCRAP,BUCKET,USED,PLASTIC with 9.0 units.\n",
      "- Indorama Ventures Packagi: OPF12.5A0,067CL***,DD3,*****,***,W1,**** with -1,658,880.0 units.\n",
      "- Medco Plast Co.systemsSAE: OBLL1*360CSM,26.0SM,RC2,N*******,W1,**** with -22,000.0 units.\n",
      "- Petform (Thailand) Ltd: OCLAB38CAA,L7**,PL****,PA1,*****,SL5S1** with 0.0 units.\u001b[0m\n",
      "\n",
      "\u001b[1m> Finished chain.\u001b[0m\n",
      "{'input': 'What is the least selling material in 2024 for each company?', 'output': 'The least selling materials in 2024 for each company are as follows:\\n- Bevpak (Nigeria) Limited: SCRAP,BUCKET,USED,PLASTIC with 9.0 units.\\n- Indorama Ventures Packagi: OPF12.5A0,067CL***,DD3,*****,***,W1,**** with -1,658,880.0 units.\\n- Medco Plast Co.systemsSAE: OBLL1*360CSM,26.0SM,RC2,N*******,W1,**** with -22,000.0 units.\\n- Petform (Thailand) Ltd: OCLAB38CAA,L7**,PL****,PA1,*****,SL5S1** with 0.0 units.'}\n"
     ]
    }
   ],
   "source": [
    "result = master_agent(\"What is the least selling material in 2024 for each company?\")\n",
    "print(result)"
   ]
  }
 ],
 "metadata": {
  "kernelspec": {
   "display_name": "eureka-env",
   "language": "python",
   "name": "python3"
  },
  "language_info": {
   "codemirror_mode": {
    "name": "ipython",
    "version": 3
   },
   "file_extension": ".py",
   "mimetype": "text/x-python",
   "name": "python",
   "nbconvert_exporter": "python",
   "pygments_lexer": "ipython3",
   "version": "3.10.16"
  }
 },
 "nbformat": 4,
 "nbformat_minor": 2
}
