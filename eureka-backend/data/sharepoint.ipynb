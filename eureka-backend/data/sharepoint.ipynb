{
 "cells": [
  {
   "cell_type": "code",
   "execution_count": null,
   "metadata": {},
   "outputs": [],
   "source": [
    "!pip install Office365-REST-Python-Client"
   ]
  },
  {
   "cell_type": "code",
   "execution_count": null,
   "metadata": {},
   "outputs": [],
   "source": [
    "import io\n",
    "from urllib.parse import urlparse, unquote\n",
    "from office365.sharepoint.client_context import ClientContext\n",
    "from office365.runtime.auth.authentication_context import AuthenticationContext\n",
    "\n",
    "# 🔧 Replace with your actual URL, username, and password\n",
    "absolute_url = \"https://indoramaventures.sharepoint.com/:x:/r/sites/CoENRDevelopment/_layouts/15/Doc.aspx?sourcedoc=%7B3FC79671-714A-483D-99A1-DA10CA4436A8%7D&file=spend_packaging.csv&action=default&mobileredirect=true\"\n",
    "username = \"keshav.s@indorama.net\"\n",
    "password = \"Sley3492\"\n",
    "\n"
   ]
  },
  {
   "cell_type": "code",
   "execution_count": null,
   "metadata": {},
   "outputs": [],
   "source": [
    "# 🔄 Extract site URL and relative path from absolute URL\n",
    "parsed_url = urlparse(absolute_url)\n",
    "path_parts = parsed_url.path.split('/')\n",
    "site_url = f\"{parsed_url.scheme}://{parsed_url.netloc}/sites/{path_parts[2]}\"\n",
    "relative_path = unquote(parsed_url.path)  # Decode %20 to space"
   ]
  },
  {
   "cell_type": "code",
   "execution_count": null,
   "metadata": {},
   "outputs": [],
   "source": [
    "# 🔐 Authenticate\n",
    "ctx_auth = AuthenticationContext(site_url)\n",
    "if ctx_auth.acquire_token_for_user(username, password):\n",
    "    ctx = ClientContext(site_url, ctx_auth)\n",
    "    try:\n",
    "        print(f\"✅ Authenticated. Testing download from: {relative_path}\")\n",
    "        file_obj = io.BytesIO()\n",
    "        file = ctx.web.get_file_by_server_relative_url(relative_path)\n",
    "        file.download(file_obj).execute_query()\n",
    "\n",
    "        print(\"✅ Connection successful! File downloaded into memory.\")\n",
    "    except Exception as e:\n",
    "        print(f\"❌ Error accessing file: {e}\")\n",
    "else:\n",
    "    print(\"❌ Authentication failed.\")"
   ]
  }
 ],
 "metadata": {
  "kernelspec": {
   "display_name": "eureka-env",
   "language": "python",
   "name": "python3"
  },
  "language_info": {
   "codemirror_mode": {
    "name": "ipython",
    "version": 3
   },
   "file_extension": ".py",
   "mimetype": "text/x-python",
   "name": "python",
   "nbconvert_exporter": "python",
   "pygments_lexer": "ipython3",
   "version": "3.10.16"
  }
 },
 "nbformat": 4,
 "nbformat_minor": 2
}
