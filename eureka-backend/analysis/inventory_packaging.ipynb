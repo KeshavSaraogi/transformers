{
 "cells": [
  {
   "cell_type": "code",
   "execution_count": null,
   "metadata": {},
   "outputs": [],
   "source": [
    "import pandas as pd\n",
    "\n",
    "df = pd.read_csv('/Users/keshavsaraogi/Desktop/indorama/eureka-data/raw-csv/inventory_packaging.csv')"
   ]
  },
  {
   "cell_type": "code",
   "execution_count": null,
   "metadata": {},
   "outputs": [],
   "source": [
    "df.head(15)"
   ]
  },
  {
   "cell_type": "code",
   "execution_count": null,
   "metadata": {},
   "outputs": [],
   "source": [
    "df.info()"
   ]
  },
  {
   "cell_type": "code",
   "execution_count": null,
   "metadata": {},
   "outputs": [],
   "source": [
    "df.describe()"
   ]
  },
  {
   "cell_type": "code",
   "execution_count": null,
   "metadata": {},
   "outputs": [],
   "source": [
    "missing_percent = df.isnull().mean() * 100\n",
    "missing_percent = missing_percent.sort_values(ascending=False)\n",
    "\n",
    "print(missing_percent.round(2))"
   ]
  },
  {
   "cell_type": "markdown",
   "metadata": {},
   "source": [
    "## Handle Missing Values - Conditional"
   ]
  },
  {
   "cell_type": "code",
   "execution_count": null,
   "metadata": {},
   "outputs": [],
   "source": [
    "df.columns.to_list()"
   ]
  },
  {
   "cell_type": "code",
   "execution_count": null,
   "metadata": {},
   "outputs": [],
   "source": [
    "## drop entire row where total_stock_kg and total_stock_lc are both 0\n",
    "\n",
    "df.columns = df.columns.str.strip()\n",
    "df = df[~((df[\"Total Stock (KG)\"] == 0) & (df[\"Total ACT Value (LC)\"] == 0))]\n",
    "df = df.reset_index(drop=True)"
   ]
  },
  {
   "cell_type": "code",
   "execution_count": null,
   "metadata": {},
   "outputs": [],
   "source": [
    "## fill the null values with 0.0 for the following columns\n",
    "\n",
    "df.columns = df.columns.str.strip()\n",
    "cols_to_fill = [\n",
    "    \"Unit Price(LC)\",\n",
    "    \">= 451 Days(Qty in KG)\",\n",
    "    \"0 - 90 Days (Qty in KG)\",\n",
    "    \"91 - 180 Days(Qty in KG)\",\n",
    "    \"181 - 270 Days(Qty in KG)\",\n",
    "    \"271 - 360 Days(Qty in KG)\",\n",
    "    \"361 - 450 Days(Qty in KG)\",\n",
    "    \"Total Stock (BU)\",\n",
    "    \"Total Stock (KG)\",\n",
    "    \"Total ACT Value (LC)\",\n",
    "    \"Total ACT Value (USD)\",\n",
    "    \"Unrestricted Stock (KG)\",\n",
    "    \"Restricted Stock (KG)\",\n",
    "    \"Quality Stock (KG)\",\n",
    "    \"Blocked Stock (KG)\",\n",
    "]\n",
    "\n",
    "df[cols_to_fill] = df[cols_to_fill].fillna(0.0)\n"
   ]
  },
  {
   "cell_type": "code",
   "execution_count": null,
   "metadata": {},
   "outputs": [],
   "source": [
    "## fill the null values with 0.0 for the following columns\n",
    "\n",
    "df.columns = df.columns.str.strip()\n",
    "cols_to_fill = [\"Stock Type\"]\n",
    "df[cols_to_fill] = df[cols_to_fill].fillna(\"NaN\")"
   ]
  },
  {
   "cell_type": "code",
   "execution_count": null,
   "metadata": {},
   "outputs": [],
   "source": [
    "missing_percent = df.isnull().mean() * 100\n",
    "missing_percent = missing_percent.sort_values(ascending=False)\n",
    "\n",
    "print(missing_percent.round(2))"
   ]
  },
  {
   "cell_type": "code",
   "execution_count": null,
   "metadata": {},
   "outputs": [],
   "source": [
    "import pandas as pd\n",
    "\n",
    "nan_counts = df.isnull().sum()\n",
    "nan_counts = nan_counts[nan_counts > 0]\n",
    "\n",
    "hash_counts = (\n",
    "    df.select_dtypes(include='object')\n",
    "    .apply(lambda col: col.astype(str).str.count('#').sum())\n",
    ")\n",
    "hash_counts = hash_counts[hash_counts > 0]\n",
    "\n",
    "combined = pd.DataFrame({\n",
    "    \"NaN_Count\": nan_counts,\n",
    "    \"#_Count\": hash_counts\n",
    "}).fillna(0).astype(int)\n",
    "\n",
    "combined[\"Total_Issues\"] = combined[\"NaN_Count\"] + combined[\"#_Count\"]\n",
    "combined = combined.sort_values(\"Total_Issues\", ascending=False)\n",
    "\n",
    "print(\"📊 Columns with NaN or '#' values and their counts:\")\n",
    "print(combined)\n"
   ]
  },
  {
   "cell_type": "code",
   "execution_count": null,
   "metadata": {},
   "outputs": [],
   "source": [
    "for col in df.columns:\n",
    "    print(f\"📌 Column: {col}\")\n",
    "    print(f\"🔢 Unique Values ({df[col].nunique(dropna=False)}):\")\n",
    "    print(df[col].unique())\n",
    "    print(\"-\" * 80)"
   ]
  },
  {
   "cell_type": "code",
   "execution_count": null,
   "metadata": {},
   "outputs": [],
   "source": [
    "output_path = \"/Users/keshavsaraogi/Desktop/indorama/eureka-data/clean-csv/cleaned_inventory_packaging.csv\"\n",
    "\n",
    "# Export to CSV\n",
    "df.to_csv(output_path, index=False, encoding=\"utf-8-sig\")\n",
    "\n",
    "print(f\"✅ DataFrame saved to: {output_path}\")"
   ]
  }
 ],
 "metadata": {
  "kernelspec": {
   "display_name": "eureka-env",
   "language": "python",
   "name": "python3"
  },
  "language_info": {
   "codemirror_mode": {
    "name": "ipython",
    "version": 3
   },
   "file_extension": ".py",
   "mimetype": "text/x-python",
   "name": "python",
   "nbconvert_exporter": "python",
   "pygments_lexer": "ipython3",
   "version": "3.10.16"
  }
 },
 "nbformat": 4,
 "nbformat_minor": 2
}
