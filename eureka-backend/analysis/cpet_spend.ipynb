{
 "cells": [
  {
   "cell_type": "code",
   "execution_count": null,
   "metadata": {},
   "outputs": [],
   "source": [
    "import pandas as pd\n",
    "\n",
    "df = pd.read_csv('/Users/keshavsaraogi/Desktop/cpet_spend.csv')"
   ]
  },
  {
   "cell_type": "code",
   "execution_count": null,
   "metadata": {},
   "outputs": [],
   "source": [
    "df.head()"
   ]
  },
  {
   "cell_type": "code",
   "execution_count": null,
   "metadata": {},
   "outputs": [],
   "source": [
    "df.info()"
   ]
  },
  {
   "cell_type": "code",
   "execution_count": null,
   "metadata": {},
   "outputs": [],
   "source": [
    "df.describe()"
   ]
  },
  {
   "cell_type": "code",
   "execution_count": null,
   "metadata": {},
   "outputs": [],
   "source": [
    "missing_percent = df.isnull().mean() * 100\n",
    "missing_percent = missing_percent.sort_values(ascending=False)\n",
    "\n",
    "print(missing_percent.round(2))"
   ]
  },
  {
   "cell_type": "code",
   "execution_count": null,
   "metadata": {},
   "outputs": [],
   "source": [
    "df.columns.to_list()"
   ]
  },
  {
   "cell_type": "code",
   "execution_count": null,
   "metadata": {},
   "outputs": [],
   "source": [
    "for col in df.columns:\n",
    "    print(f\"📌 Column: {col}\")\n",
    "    print(df[col].head(10))\n",
    "    print(\"-\" * 40)"
   ]
  },
  {
   "cell_type": "code",
   "execution_count": null,
   "metadata": {},
   "outputs": [],
   "source": [
    "object_cols = df.select_dtypes(include='object').columns\n",
    "\n",
    "# Loop through and print unique values for each object column\n",
    "for col in object_cols:\n",
    "    print(f\"📌 Column: {col}\")\n",
    "    print(f\"🔢 Unique Values ({df[col].nunique()}):\")\n",
    "    print(df[col].unique())\n",
    "    print(\"-\" * 80)"
   ]
  },
  {
   "cell_type": "code",
   "execution_count": null,
   "metadata": {},
   "outputs": [],
   "source": [
    "# Temporarily expand display settings\n",
    "pd.set_option('display.max_rows', None)      # Show all rows\n",
    "pd.set_option('display.max_colwidth', None)  # Show full text in cells\n",
    "\n",
    "# Print all unique values in the 'Material Description' column\n",
    "unique_values = df['Material Description'].dropna().unique()\n",
    "print(unique_values)\n",
    "\n",
    "# Optionally reset settings (recommended after you're done)\n",
    "pd.reset_option('display.max_rows')\n",
    "pd.reset_option('display.max_colwidth')"
   ]
  },
  {
   "cell_type": "code",
   "execution_count": null,
   "metadata": {},
   "outputs": [],
   "source": [
    "# Check for presence of '#' in any column (string-wise)\n",
    "has_hash = df.applymap(lambda x: isinstance(x, str) and '#' in x)\n",
    "\n",
    "# Check if any cell contains '#'\n",
    "if has_hash.any().any():\n",
    "    print(\"✅ '#' found in the dataset.\")\n",
    "\n",
    "    # Print rows and columns where '#' is found\n",
    "    matching_cells = df[has_hash.any(axis=1)]\n",
    "    print(matching_cells)\n",
    "else:\n",
    "    print(\"❌ No '#' character found in the dataset.\")\n"
   ]
  },
  {
   "cell_type": "code",
   "execution_count": null,
   "metadata": {},
   "outputs": [],
   "source": []
  },
  {
   "cell_type": "markdown",
   "metadata": {},
   "source": [
    "## Handling Missing Values"
   ]
  }
 ],
 "metadata": {
  "kernelspec": {
   "display_name": "eureka-env",
   "language": "python",
   "name": "python3"
  },
  "language_info": {
   "codemirror_mode": {
    "name": "ipython",
    "version": 3
   },
   "file_extension": ".py",
   "mimetype": "text/x-python",
   "name": "python",
   "nbconvert_exporter": "python",
   "pygments_lexer": "ipython3",
   "version": "3.10.16"
  }
 },
 "nbformat": 4,
 "nbformat_minor": 2
}
