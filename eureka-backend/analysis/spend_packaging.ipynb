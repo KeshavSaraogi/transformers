{
 "cells": [
  {
   "cell_type": "code",
   "execution_count": null,
   "metadata": {},
   "outputs": [],
   "source": [
    "import pandas as pd\n",
    "\n",
    "df = pd.read_csv('/Users/keshavsaraogi/Desktop/indorama/eureka-data/raw-csv/spend_packaging.csv')"
   ]
  },
  {
   "cell_type": "code",
   "execution_count": null,
   "metadata": {},
   "outputs": [],
   "source": [
    "df.head()"
   ]
  },
  {
   "cell_type": "code",
   "execution_count": null,
   "metadata": {},
   "outputs": [],
   "source": [
    "df.info()"
   ]
  },
  {
   "cell_type": "code",
   "execution_count": null,
   "metadata": {},
   "outputs": [],
   "source": [
    "df.describe()"
   ]
  },
  {
   "cell_type": "code",
   "execution_count": null,
   "metadata": {},
   "outputs": [],
   "source": [
    "df.isnull().sum()"
   ]
  },
  {
   "cell_type": "code",
   "execution_count": null,
   "metadata": {},
   "outputs": [],
   "source": [
    "missing_percent = df.isnull().mean() * 100\n",
    "missing_percent = missing_percent.sort_values(ascending=False)\n",
    "\n",
    "print(missing_percent.round(2))"
   ]
  },
  {
   "cell_type": "markdown",
   "metadata": {},
   "source": [
    "## Handle Missing Values"
   ]
  },
  {
   "cell_type": "code",
   "execution_count": null,
   "metadata": {},
   "outputs": [],
   "source": [
    "df.columns.to_list()"
   ]
  },
  {
   "cell_type": "code",
   "execution_count": null,
   "metadata": {},
   "outputs": [],
   "source": [
    "df.columns = df.columns.str.strip()\n",
    "\n",
    "cols_to_fill = [\n",
    "    \"Supplier_description\",\n",
    "    \"Supplier_Country description\",\n",
    "    \"Supplier\",\n",
    "    \"Material\",\n",
    "    \"Cost_Center\",\n",
    "    \"WBS_Element\",\n",
    "    \"WBS_Element_description\",\n",
    "]\n",
    "\n",
    "df[cols_to_fill] = df[cols_to_fill].fillna(\"NaN\")\n"
   ]
  },
  {
   "cell_type": "code",
   "execution_count": null,
   "metadata": {},
   "outputs": [],
   "source": [
    "missing_percent = df.isnull().mean() * 100\n",
    "missing_percent = missing_percent.sort_values(ascending=False)\n",
    "\n",
    "print(missing_percent.round(2))"
   ]
  },
  {
   "cell_type": "code",
   "execution_count": null,
   "metadata": {},
   "outputs": [],
   "source": [
    "import pandas as pd\n",
    "\n",
    "nan_counts = df.isnull().sum()\n",
    "nan_counts = nan_counts[nan_counts > 0]\n",
    "\n",
    "hash_counts = (\n",
    "    df.select_dtypes(include='object')\n",
    "    .apply(lambda col: col.astype(str).str.count('#').sum())\n",
    ")\n",
    "hash_counts = hash_counts[hash_counts > 0]\n",
    "\n",
    "combined = pd.DataFrame({\n",
    "    \"NAN_Count\": nan_counts,\n",
    "    \"#_Count\": hash_counts\n",
    "}).fillna(0).astype(int)\n",
    "\n",
    "combined[\"Total_Issues\"] = combined[\"NAN_Count\"] + combined[\"#_Count\"]\n",
    "combined = combined.sort_values(\"Total_Issues\", ascending=False)\n",
    "\n",
    "print(\"📊 Columns with NaN or '#' values and their counts:\")\n",
    "print(combined)\n"
   ]
  },
  {
   "cell_type": "code",
   "execution_count": null,
   "metadata": {},
   "outputs": [],
   "source": [
    "df.rename(columns={\n",
    "    \"Company_Code\": \"Company ID\",\n",
    "    \"Purchase_Order\": \"Purchase Order\",\n",
    "    \"Cost_Center\": \"Cost Center\",\n",
    "    \"Material\": \"Material ID\",\n",
    "    \"Material_description\": \"Material Description\",\n",
    "    \"Material_Group\": \"Material Group\",\n",
    "    \"Material_Group description\": \"Material Group Description\",\n",
    "    \"Plant\": \"Plant ID\",\n",
    "    \"Plant_description\": \"Plant Name\",\n",
    "    \"Supplier\": \"Supplier ID\",\n",
    "    \"Supplier_description\": \"Supplier Name\",\n",
    "    \"Supplier_Country description\": \"Supplier Country\",\n",
    "    \"WBS_Element\": \"WBS Element ID\",\n",
    "    \"WBS_Element_description\": \"WBS Element Name\",\n",
    "    \"PO_NET_Amount\": \"PO Net Amount\",\n",
    "    \"UOM\": \"Unit of Measurement\",\n",
    "}, inplace=True)"
   ]
  },
  {
   "cell_type": "code",
   "execution_count": null,
   "metadata": {},
   "outputs": [],
   "source": [
    "output_path = \"/Users/keshavsaraogi/Desktop/indorama/eureka-data/clean-csv/cleaned_spend_packaging.csv\"\n",
    "df.to_csv(output_path, index=False, encoding=\"utf-8-sig\")\n",
    "print(f\"✅ DataFrame saved to: {output_path}\")"
   ]
  }
 ],
 "metadata": {
  "kernelspec": {
   "display_name": "eureka-env",
   "language": "python",
   "name": "python3"
  },
  "language_info": {
   "codemirror_mode": {
    "name": "ipython",
    "version": 3
   },
   "file_extension": ".py",
   "mimetype": "text/x-python",
   "name": "python",
   "nbconvert_exporter": "python",
   "pygments_lexer": "ipython3",
   "version": "3.10.16"
  }
 },
 "nbformat": 4,
 "nbformat_minor": 2
}
