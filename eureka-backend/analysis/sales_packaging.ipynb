{
 "cells": [
  {
   "cell_type": "code",
   "execution_count": null,
   "metadata": {},
   "outputs": [],
   "source": [
    "import pandas as pd\n",
    "\n",
    "df = pd.read_csv('/Users/keshavsaraogi/Desktop/indorama/eureka-data/raw-csv/sales_packaging.csv')"
   ]
  },
  {
   "cell_type": "code",
   "execution_count": null,
   "metadata": {},
   "outputs": [],
   "source": [
    "df.head(15)"
   ]
  },
  {
   "cell_type": "code",
   "execution_count": null,
   "metadata": {},
   "outputs": [],
   "source": [
    "df.info()"
   ]
  },
  {
   "cell_type": "code",
   "execution_count": null,
   "metadata": {},
   "outputs": [],
   "source": [
    "df.describe()"
   ]
  },
  {
   "cell_type": "code",
   "execution_count": null,
   "metadata": {},
   "outputs": [],
   "source": [
    "missing_percent = df.isnull().mean() * 100\n",
    "missing_percent = missing_percent.sort_values(ascending=False)\n",
    "\n",
    "print(missing_percent.round(2))"
   ]
  },
  {
   "cell_type": "code",
   "execution_count": null,
   "metadata": {},
   "outputs": [],
   "source": [
    "import pandas as pd\n",
    "\n",
    "nan_counts = df.isnull().sum()\n",
    "nan_counts = nan_counts[nan_counts > 0]\n",
    "\n",
    "hash_counts = (\n",
    "    df.select_dtypes(include='object')\n",
    "    .apply(lambda col: col.astype(str).str.count('#').sum())\n",
    ")\n",
    "hash_counts = hash_counts[hash_counts > 0]\n",
    "\n",
    "combined = pd.DataFrame({\n",
    "    \"NaN_Count\": nan_counts,\n",
    "    \"#_Count\": hash_counts\n",
    "}).fillna(0).astype(int)\n",
    "\n",
    "combined[\"Total_Issues\"] = combined[\"NaN_Count\"] + combined[\"#_Count\"]\n",
    "combined = combined.sort_values(\"Total_Issues\", ascending=False)\n",
    "\n",
    "print(\"📊 Columns with NaN or '#' values and their counts:\")\n",
    "print(combined)\n"
   ]
  },
  {
   "cell_type": "code",
   "execution_count": null,
   "metadata": {},
   "outputs": [],
   "source": [
    "for col in df.columns:\n",
    "    print(f\"📌 Column: {col}\")\n",
    "    print(f\"🔢 Unique Values ({df[col].nunique(dropna=False)}):\")\n",
    "    print(df[col].unique())\n",
    "    print(\"-\" * 80)"
   ]
  },
  {
   "cell_type": "code",
   "execution_count": null,
   "metadata": {},
   "outputs": [],
   "source": [
    "df.columns.to_list()"
   ]
  },
  {
   "cell_type": "markdown",
   "metadata": {},
   "source": [
    "## Handling Missing Values"
   ]
  },
  {
   "cell_type": "code",
   "execution_count": null,
   "metadata": {},
   "outputs": [],
   "source": [
    "df.columns.to_list()"
   ]
  },
  {
   "cell_type": "code",
   "execution_count": null,
   "metadata": {},
   "outputs": [],
   "source": [
    "df.rename(columns={\n",
    "    \"Company Code\": \"Company ID\",\n",
    "    \"Sales Organization\": \"Sales Organization ID\",\n",
    "    \"Plant\": \"Plant ID\",\n",
    "    \"Material\": \"Material ID\",\n",
    "    \"Incoterms 1\": \"Incoterms Type\",\n",
    "    \n",
    "}, inplace=True)"
   ]
  },
  {
   "cell_type": "code",
   "execution_count": null,
   "metadata": {},
   "outputs": [],
   "source": [
    "output_path = \"/Users/keshavsaraogi/Desktop/indorama/eureka-data/clean-csv/cleaned_sales_packaging.csv\"\n",
    "df.to_csv(output_path, index=False, encoding=\"utf-8-sig\")\n",
    "\n",
    "print(f\"✅ DataFrame saved to: {output_path}\")"
   ]
  }
 ],
 "metadata": {
  "kernelspec": {
   "display_name": "eureka-env",
   "language": "python",
   "name": "python3"
  },
  "language_info": {
   "codemirror_mode": {
    "name": "ipython",
    "version": 3
   },
   "file_extension": ".py",
   "mimetype": "text/x-python",
   "name": "python",
   "nbconvert_exporter": "python",
   "pygments_lexer": "ipython3",
   "version": "3.10.16"
  }
 },
 "nbformat": 4,
 "nbformat_minor": 2
}
