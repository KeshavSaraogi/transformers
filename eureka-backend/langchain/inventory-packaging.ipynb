{
 "cells": [
  {
   "cell_type": "code",
   "execution_count": null,
   "metadata": {},
   "outputs": [],
   "source": [
    "# ✅ Environment setup\n",
    "import os\n",
    "import pandas as pd\n",
    "import sqlite3\n",
    "from dotenv import load_dotenv\n",
    "from langchain_openai import ChatOpenAI\n",
    "from langchain_experimental.agents.agent_toolkits import create_csv_agent\n",
    "from langchain.sql_database import SQLDatabase\n",
    "from langchain.agents.agent_toolkits import SQLDatabaseToolkit\n",
    "from langchain.agents import create_sql_agent\n",
    "from sqlalchemy import create_engine"
   ]
  },
  {
   "cell_type": "code",
   "execution_count": null,
   "metadata": {},
   "outputs": [],
   "source": [
    "# 🔐 Load API keys\n",
    "load_dotenv()\n",
    "OPENAI_API_KEY = os.getenv(\"OPENAI_API_KEY\")"
   ]
  },
  {
   "cell_type": "code",
   "execution_count": 7,
   "metadata": {},
   "outputs": [
    {
     "name": "stderr",
     "output_type": "stream",
     "text": [
      "/var/folders/f_/mxzw7mdx4qg8bs9xn0wbblsw0000gn/T/ipykernel_91705/1798452157.py:2: DtypeWarning: Columns (17) have mixed types. Specify dtype option on import or set low_memory=False.\n",
      "  df = pd.read_csv(csv_path)\n"
     ]
    }
   ],
   "source": [
    "csv_path = '/Users/keshavsaraogi/Desktop/indorama/eureka-data/clean-csv/cleaned_inventory_packaging.csv'\n",
    "df = pd.read_csv(csv_path)"
   ]
  },
  {
   "cell_type": "code",
   "execution_count": null,
   "metadata": {},
   "outputs": [],
   "source": [
    "llm = ChatOpenAI(\n",
    "    model=\"gpt-4o\",\n",
    "    temperature=0.5\n",
    ")"
   ]
  },
  {
   "cell_type": "code",
   "execution_count": null,
   "metadata": {},
   "outputs": [],
   "source": [
    "csv_agent = create_csv_agent(\n",
    "    llm,\n",
    "    csv_path,\n",
    "    verbose=True,\n",
    "    allow_dangerous_code=True,\n",
    "    max_iterations=20,\n",
    "    max_execution_time=60,\n",
    "    handle_parsing_errors=True\n",
    ")"
   ]
  },
  {
   "cell_type": "code",
   "execution_count": 9,
   "metadata": {},
   "outputs": [],
   "source": [
    "engine = create_engine(\"sqlite:///:memory:\")\n",
    "df.to_sql(\"finance_packaging_data\", engine, index=False, if_exists=\"replace\")\n",
    "db = SQLDatabase(engine)"
   ]
  },
  {
   "cell_type": "code",
   "execution_count": 10,
   "metadata": {},
   "outputs": [],
   "source": [
    "# 🧠 Create SQL Agent\n",
    "sql_agent = create_sql_agent(\n",
    "    llm,\n",
    "    toolkit=SQLDatabaseToolkit(db=db, llm=llm),\n",
    "    verbose=True,\n",
    "    handle_parsing_errors=True,\n",
    "    max_iterations=20,\n",
    "    max_execution_time=60\n",
    ")"
   ]
  },
  {
   "cell_type": "code",
   "execution_count": 11,
   "metadata": {},
   "outputs": [],
   "source": [
    "# 🧭 Routing function\n",
    "def route_query(query: str):\n",
    "    query = query.lower()\n",
    "    if any(keyword in query for keyword in [\"sum\", \"avg\", \"group\", \"filter\", \"division\", \"unit price\"]):\n",
    "        return \"sql\"\n",
    "    else:\n",
    "        return \"csv\""
   ]
  },
  {
   "cell_type": "code",
   "execution_count": 12,
   "metadata": {},
   "outputs": [],
   "source": [
    "# 🤖 Master agent logic\n",
    "def master_agent(query: str):\n",
    "    source = route_query(query)\n",
    "    if source == \"sql\":\n",
    "        return sql_agent.run(query)\n",
    "    else:\n",
    "        return csv_agent.invoke(query)"
   ]
  },
  {
   "cell_type": "code",
   "execution_count": 15,
   "metadata": {},
   "outputs": [
    {
     "name": "stdout",
     "output_type": "stream",
     "text": [
      "\n",
      "\n",
      "\u001b[1m> Entering new AgentExecutor chain...\u001b[0m\n",
      "\u001b[32;1m\u001b[1;3mTo determine the top 3 Company IDs with the highest total stock, we need to group the data by `Company ID` and sum the `Total Stock (KG)` for each company. Then, we will sort the results in descending order and select the top 3 entries.\n",
      "\n",
      "Let's perform these operations using pandas.\n",
      "\n",
      "Thought: I will group the dataframe by `Company ID`, sum the `Total Stock (KG)`, sort the results in descending order, and then select the top 3 companies.\n",
      "Action: python_repl_ast\n",
      "Action Input: \n",
      "```python\n",
      "df.groupby('Company ID')['Total Stock (KG)'].sum().sort_values(ascending=False).head(3)\n",
      "```\u001b[0m\u001b[36;1m\u001b[1;3mCompany ID\n",
      "PH10    4.141457e+07\n",
      "NG10    1.810819e+07\n",
      "EG11    8.994206e+06\n",
      "Name: Total Stock (KG), dtype: float64\u001b[0m\u001b[32;1m\u001b[1;3mI now know the final answer. \n",
      "\n",
      "Final Answer: The top 3 Company IDs with the highest total stock are:\n",
      "1. PH10 with a total stock of 41,414,570 KG\n",
      "2. NG10 with a total stock of 18,108,190 KG\n",
      "3. EG11 with a total stock of 8,994,206 KG\u001b[0m\n",
      "\n",
      "\u001b[1m> Finished chain.\u001b[0m\n"
     ]
    },
    {
     "data": {
      "text/plain": [
       "{'input': 'Which Company ID has the highest total stock? Give me top 3 companies with their answers.',\n",
       " 'output': 'The top 3 Company IDs with the highest total stock are:\\n1. PH10 with a total stock of 41,414,570 KG\\n2. NG10 with a total stock of 18,108,190 KG\\n3. EG11 with a total stock of 8,994,206 KG'}"
      ]
     },
     "execution_count": 15,
     "metadata": {},
     "output_type": "execute_result"
    }
   ],
   "source": [
    "master_agent(\"Which Company ID has the highest total stock? Give me top 3 companies with their answers.\")"
   ]
  },
  {
   "cell_type": "code",
   "execution_count": null,
   "metadata": {},
   "outputs": [],
   "source": []
  },
  {
   "cell_type": "code",
   "execution_count": null,
   "metadata": {},
   "outputs": [],
   "source": []
  },
  {
   "cell_type": "code",
   "execution_count": null,
   "metadata": {},
   "outputs": [],
   "source": []
  }
 ],
 "metadata": {
  "kernelspec": {
   "display_name": "eureka-env",
   "language": "python",
   "name": "python3"
  },
  "language_info": {
   "codemirror_mode": {
    "name": "ipython",
    "version": 3
   },
   "file_extension": ".py",
   "mimetype": "text/x-python",
   "name": "python",
   "nbconvert_exporter": "python",
   "pygments_lexer": "ipython3",
   "version": "3.10.16"
  }
 },
 "nbformat": 4,
 "nbformat_minor": 2
}
