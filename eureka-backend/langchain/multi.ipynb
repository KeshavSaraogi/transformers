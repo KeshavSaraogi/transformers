{
 "cells": [
  {
   "cell_type": "code",
   "execution_count": null,
   "metadata": {},
   "outputs": [],
   "source": [
    "# ✅ Imports\n",
    "import os\n",
    "from dotenv import load_dotenv\n",
    "from langchain_openai import ChatOpenAI\n",
    "\n",
    "# Dummy placeholders\n",
    "from langchain.schema import AgentAction, AgentFinish\n",
    "\n",
    "# ✅ Load API Keys\n",
    "load_dotenv()\n",
    "api_key = os.getenv(\"OPENAI_API_KEY\")"
   ]
  },
  {
   "cell_type": "code",
   "execution_count": null,
   "metadata": {},
   "outputs": [],
   "source": [
    "# ✅ Initialize LLM\n",
    "llm = ChatOpenAI(model=\"gpt-4o\", temperature=0.5, openai_api_key=api_key)\n",
    "\n",
    "# ✅ Dummy agent response functions (replace with real agent.invoke)\n",
    "def finance_agent(query):\n",
    "    return {\"output\": f\"💰 Finance Agent: Processed '{query}'\"}\n",
    "\n",
    "def inventory_agent(query):\n",
    "    return {\"output\": f\"📦 Inventory Agent: Processed '{query}'\"}\n",
    "\n",
    "def visualization_agent(query):\n",
    "    return {\"output\": f\"📊 Visualization Agent: Created chart for '{query}'\"}"
   ]
  },
  {
   "cell_type": "code",
   "execution_count": null,
   "metadata": {},
   "outputs": [],
   "source": [
    "# ✅ Query Router\n",
    "def route_query(query: str):\n",
    "    query_lower = query.lower()\n",
    "    if any(word in query_lower for word in [\"stock\", \"inventory\", \"quantity\", \"warehouse\"]):\n",
    "        return \"inventory\"\n",
    "    elif any(word in query_lower for word in [\"graph\", \"chart\", \"plot\", \"visual\", \"draw\"]):\n",
    "        return \"visualization\"\n",
    "    else:\n",
    "        return \"finance\""
   ]
  },
  {
   "cell_type": "code",
   "execution_count": null,
   "metadata": {},
   "outputs": [],
   "source": [
    "# ✅ Controller Function\n",
    "def multi_agent_controller(query: str):\n",
    "    target_agent = route_query(query)\n",
    "    \n",
    "    if target_agent == \"finance\":\n",
    "        response = finance_agent(query)\n",
    "    elif target_agent == \"inventory\":\n",
    "        response = inventory_agent(query)\n",
    "    elif target_agent == \"visualization\":\n",
    "        response = visualization_agent(query)\n",
    "    else:\n",
    "        response = {\"output\": \"❓ Unable to determine the right agent.\"}\n",
    "    \n",
    "    return response[\"output\"]\n"
   ]
  },
  {
   "cell_type": "code",
   "execution_count": null,
   "metadata": {},
   "outputs": [],
   "source": [
    "# ✅ Example Usage\n",
    "test_queries = [\n",
    "    \"What is the total revenue in Q4?\",\n",
    "    \"How many items are left in warehouse A?\",\n",
    "    \"Draw a bar chart of total spending by department\"\n",
    "]\n",
    "\n",
    "for q in test_queries:\n",
    "    print(\"🔍 Query:\", q)\n",
    "    print(\"🤖 Response:\", multi_agent_controller(q))\n",
    "    print(\"—\" * 60)"
   ]
  }
 ],
 "metadata": {
  "language_info": {
   "name": "python"
  }
 },
 "nbformat": 4,
 "nbformat_minor": 2
}
