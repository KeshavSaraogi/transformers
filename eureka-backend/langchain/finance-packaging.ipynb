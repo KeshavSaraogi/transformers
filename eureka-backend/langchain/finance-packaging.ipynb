{
 "cells": [
  {
   "cell_type": "code",
   "execution_count": 20,
   "metadata": {},
   "outputs": [],
   "source": [
    "# ✅ Environment Setup\n",
    "import os\n",
    "import pandas as pd\n",
    "from dotenv import load_dotenv\n",
    "from sqlalchemy import create_engine\n",
    "from langchain_openai import ChatOpenAI\n",
    "from langchain_experimental.agents.agent_toolkits import create_csv_agent\n",
    "from langchain.sql_database import SQLDatabase\n",
    "from langchain.agents.agent_toolkits import SQLDatabaseToolkit\n",
    "from langchain.agents import create_sql_agent, AgentType\n",
    "from langchain.memory import ConversationBufferMemory\n"
   ]
  },
  {
   "cell_type": "code",
   "execution_count": 21,
   "metadata": {},
   "outputs": [
    {
     "name": "stdout",
     "output_type": "stream",
     "text": [
      "✅ API key successfully loaded\n"
     ]
    }
   ],
   "source": [
    "# 🔐 Load API Keys\n",
    "load_dotenv()\n",
    "OPENAI_API_KEY = os.getenv(\"OPENAI_API_KEY\")\n",
    "\n",
    "if not OPENAI_API_KEY:\n",
    "    raise ValueError(\"❌ OPENAI_API_KEY is not loaded from .env\")\n",
    "\n",
    "print(\"✅ API key successfully loaded\")"
   ]
  },
  {
   "cell_type": "code",
   "execution_count": 22,
   "metadata": {},
   "outputs": [],
   "source": [
    "csv_path = \"/Users/keshavsaraogi/Desktop/indorama/eureka-data/clean-csv/cleaned_finance_packaging.csv\"\n",
    "df = pd.read_csv(csv_path)"
   ]
  },
  {
   "cell_type": "code",
   "execution_count": 23,
   "metadata": {},
   "outputs": [],
   "source": [
    "llm = ChatOpenAI(\n",
    "    model=\"gpt-4o\",\n",
    "    temperature=0.5\n",
    ")"
   ]
  },
  {
   "cell_type": "code",
   "execution_count": 24,
   "metadata": {},
   "outputs": [],
   "source": [
    "finance_csv_memory = ConversationBufferMemory(memory_key=\"chat_history\", return_messages=True)\n",
    "finance_sql_memory = ConversationBufferMemory(memory_key=\"chat_history\", return_messages=True)"
   ]
  },
  {
   "cell_type": "code",
   "execution_count": 25,
   "metadata": {},
   "outputs": [
    {
     "name": "stderr",
     "output_type": "stream",
     "text": [
      "/opt/anaconda3/envs/eureka-env/lib/python3.10/site-packages/langchain_experimental/agents/agent_toolkits/pandas/base.py:283: UserWarning: Received additional kwargs {'handle_parsing_errors': True, 'memory': ConversationBufferMemory(chat_memory=InMemoryChatMessageHistory(messages=[]), return_messages=True, memory_key='chat_history')} which are no longer supported.\n",
      "  warnings.warn(\n"
     ]
    }
   ],
   "source": [
    "# 🤖 CSV Agent\n",
    "csv_agent = create_csv_agent(\n",
    "    llm,\n",
    "    csv_path,\n",
    "    verbose=True,\n",
    "    allow_dangerous_code=True,\n",
    "    handle_parsing_errors=True,\n",
    "    max_iterations=20,\n",
    "    max_execution_time=60,\n",
    "    agent_type=AgentType.OPENAI_FUNCTIONS,\n",
    "    memory=finance_csv_memory\n",
    ")"
   ]
  },
  {
   "cell_type": "code",
   "execution_count": 26,
   "metadata": {},
   "outputs": [],
   "source": [
    "# 🛢️ SQL Agent\n",
    "engine = create_engine(\"sqlite:///finance_packaging.db\")\n",
    "df.to_sql(\"finance_packaging_data\", engine, index=False, if_exists=\"replace\")\n",
    "db = SQLDatabase(engine)\n",
    "\n",
    "sql_agent = create_sql_agent(\n",
    "    llm,\n",
    "    toolkit=SQLDatabaseToolkit(db=db, llm=llm),\n",
    "    verbose=True,\n",
    "    handle_parsing_errors=True,\n",
    "    max_iterations=20,\n",
    "    max_execution_time=60,\n",
    "    agent_type=AgentType.OPENAI_FUNCTIONS,\n",
    "    memory=finance_sql_memory\n",
    ")\n"
   ]
  },
  {
   "cell_type": "code",
   "execution_count": 27,
   "metadata": {},
   "outputs": [],
   "source": [
    "# 🧭 Routing Function\n",
    "def route_query(query: str):\n",
    "    query = query.lower()\n",
    "    if any(keyword in query for keyword in [\"sum\", \"avg\", \"group\", \"filter\", \"division\", \"unit price\", \"balance\"]):\n",
    "        return \"sql\"\n",
    "    else:\n",
    "        return \"csv\"\n",
    "\n",
    "# Master Agent\n",
    "def master_agent(query: str):\n",
    "    source = route_query(query)\n",
    "    if source == \"sql\":\n",
    "        return sql_agent.run(query)\n",
    "    else:\n",
    "        return csv_agent.run(query)"
   ]
  },
  {
   "cell_type": "code",
   "execution_count": 28,
   "metadata": {},
   "outputs": [],
   "source": [
    "# 🧠 Recall Last Interaction\n",
    "def recall_last_interaction(memory):\n",
    "    messages = memory.chat_memory.messages\n",
    "    if len(messages) >= 2:\n",
    "        user_msg = messages[-2].content\n",
    "        ai_msg = messages[-1].content\n",
    "        return f\"🧠 Last Question: {user_msg}\\n💬 Last Answer: {ai_msg}\"\n",
    "    return \"🧠 No previous memory found.\"\n"
   ]
  },
  {
   "cell_type": "code",
   "execution_count": 29,
   "metadata": {},
   "outputs": [],
   "source": [
    "def show_full_chat(memory):\n",
    "    print(\"🧠 Chat History:\")\n",
    "    for msg in memory.chat_memory.messages:\n",
    "        role = msg.type.capitalize()\n",
    "        print(f\"{role}: {msg.content}\")"
   ]
  },
  {
   "cell_type": "code",
   "execution_count": 30,
   "metadata": {},
   "outputs": [
    {
     "name": "stdout",
     "output_type": "stream",
     "text": [
      "\n",
      "\n",
      "\u001b[1m> Entering new SQL Agent Executor chain...\u001b[0m\n",
      "\u001b[32;1m\u001b[1;3m\n",
      "Invoking: `sql_db_list_tables` with `{}`\n",
      "\n",
      "\n",
      "\u001b[0m\u001b[38;5;200m\u001b[1;3mfinance_packaging_data\u001b[0m\u001b[32;1m\u001b[1;3m\n",
      "Invoking: `sql_db_schema` with `{'table_names': 'finance_packaging_data'}`\n",
      "\n",
      "\n",
      "\u001b[0m\u001b[33;1m\u001b[1;3m\n",
      "CREATE TABLE finance_packaging_data (\n",
      "\t\"Company ID\" TEXT, \n",
      "\t\"Company Name\" TEXT, \n",
      "\t\"G/L Account ID\" TEXT, \n",
      "\t\"G/L Account Name\" TEXT, \n",
      "\t\"Clearing Date\" TEXT, \n",
      "\t\"Customer ID\" TEXT, \n",
      "\t\"Customer Name\" TEXT, \n",
      "\t\"Division\" TEXT, \n",
      "\t\"Fixed Asset ID\" TEXT, \n",
      "\t\"G/L Account Type\" TEXT, \n",
      "\t\"G/L Account Type Description\" TEXT, \n",
      "\t\"Material ID\" TEXT, \n",
      "\t\"Material Name\" TEXT, \n",
      "\t\"Plant ID\" TEXT, \n",
      "\t\"Plant Name\" TEXT, \n",
      "\t\"Supplier ID\" TEXT, \n",
      "\t\"Supplier Name\" TEXT, \n",
      "\t\"Cost Center ID\" TEXT, \n",
      "\t\"Cost Center Name\" TEXT, \n",
      "\t\"Starting Balance in Global Currency\" FLOAT, \n",
      "\t\"Debit Balance in Global Currency\" FLOAT, \n",
      "\t\"Credit Balance in Global Currency\" FLOAT, \n",
      "\t\"Ending Balance in Global Currency\" FLOAT\n",
      ")\n",
      "\n",
      "/*\n",
      "3 rows from finance_packaging_data table:\n",
      "Company ID\tCompany Name\tG/L Account ID\tG/L Account Name\tClearing Date\tCustomer ID\tCustomer Name\tDivision\tFixed Asset ID\tG/L Account Type\tG/L Account Type Description\tMaterial ID\tMaterial Name\tPlant ID\tPlant Name\tSupplier ID\tSupplier Name\tCost Center ID\tCost Center Name\tStarting Balance in Global Currency\tDebit Balance in Global Currency\tCredit Balance in Global Currency\tEnding Balance in Global Currency\n",
      "NG10\tBevpak (Nigeria) Limited\tOCOA/1600000010\tTrade Rec - Local\t31.01.2024\t1028320\tSEVEN UP BOTTLING CO PLC\tNAN\tNG10/Not assigned\tX\tBalance Sheet Account\tNAN\tNAN\tNAN\tNAN\tNAN\tNAN\tIVL1/#\tIVL1/Not assigned\t0.0\t3004982.81\t-3004982.81\t0.0\n",
      "NG10\tBevpak (Nigeria) Limited\tOCOA/1600000010\tTrade Rec - Local\t29.02.2024\t1027595\tNIGERIAN BOTTLING COMPANY LIMITED\tNAN\tNG10/Not assigned\tX\tBalance Sheet Account\tNAN\tNAN\tNAN\tNAN\tNAN\tNAN\tIVL1/#\tIVL1/Not assigned\t0.0\t437112.12\t-923.07\t436189.05\n",
      "NG10\tBevpak (Nigeria) Limited\tOCOA/1600000010\tTrade Rec - Local\t29.02.2024\t1028320\tSEVEN UP BOTTLING CO PLC\tNAN\tNG10/Not assigned\tX\tBalance Sheet Account\tNAN\tNAN\tNAN\tNAN\tNAN\tNAN\tIVL1/#\tIVL1/Not assigned\t0.0\t1579431.73\t0.0\t1579431.73\n",
      "*/\u001b[0m\u001b[32;1m\u001b[1;3m\n",
      "Invoking: `sql_db_query_checker` with `{'query': 'SELECT SUM(\"Ending Balance in Global Currency\") AS Total_Ending_Balance FROM finance_packaging_data;'}`\n",
      "\n",
      "\n",
      "\u001b[0m\u001b[36;1m\u001b[1;3m```sql\n",
      "SELECT SUM(\"Ending Balance in Global Currency\") AS Total_Ending_Balance FROM finance_packaging_data;\n",
      "```\u001b[0m\u001b[32;1m\u001b[1;3m\n",
      "Invoking: `sql_db_query` with `{'query': 'SELECT SUM(\"Ending Balance in Global Currency\") AS Total_Ending_Balance FROM finance_packaging_data;'}`\n",
      "\n",
      "\n",
      "\u001b[0m\u001b[36;1m\u001b[1;3m[(-23855630.28,)]\u001b[0m\u001b[32;1m\u001b[1;3mThe sum of the ending balance in global currency is -23,855,630.28. \n",
      "\n",
      "I arrived at this answer by querying the `finance_packaging_data` table for the sum of the \"Ending Balance in Global Currency\" column.\u001b[0m\n",
      "\n",
      "\u001b[1m> Finished chain.\u001b[0m\n",
      "The sum of the ending balance in global currency is -23,855,630.28. \n",
      "\n",
      "I arrived at this answer by querying the `finance_packaging_data` table for the sum of the \"Ending Balance in Global Currency\" column.\n"
     ]
    }
   ],
   "source": [
    "print(master_agent(\"What is the sum of the ending balance of the ending balance in global currency? Explain how you arrived at the answer.\"))"
   ]
  },
  {
   "cell_type": "code",
   "execution_count": 31,
   "metadata": {},
   "outputs": [
    {
     "name": "stdout",
     "output_type": "stream",
     "text": [
      "🧠 No previous memory found.\n"
     ]
    }
   ],
   "source": [
    "print(recall_last_interaction(finance_sql_memory))"
   ]
  },
  {
   "cell_type": "code",
   "execution_count": 32,
   "metadata": {},
   "outputs": [],
   "source": [
    "# agent_executer.invoke(\"How many total company codes are there in the dataset? Name them all.\")"
   ]
  },
  {
   "cell_type": "code",
   "execution_count": 33,
   "metadata": {},
   "outputs": [],
   "source": [
    "# agent_executer.invoke(\"What is the sum of the debit balance in global currency? Explain how you arrived at the answer.\")"
   ]
  },
  {
   "cell_type": "code",
   "execution_count": 34,
   "metadata": {},
   "outputs": [],
   "source": [
    "# agent_executer.invoke(\"What is the sum of the total credit balance in global currency? Explain how you arrived at the answer.\")"
   ]
  },
  {
   "cell_type": "code",
   "execution_count": 35,
   "metadata": {},
   "outputs": [],
   "source": [
    "# agent_executer.invoke(\"Give me a list of the top 3 companies with the highest total credit balance in global currency. Explain how you arrived at the answer.\")"
   ]
  },
  {
   "cell_type": "code",
   "execution_count": 36,
   "metadata": {},
   "outputs": [],
   "source": [
    "# agent_executer.invoke(\"What is the sum of the ending balance of the ending balance in global currency? Explain how you arrived at the answer.\")"
   ]
  },
  {
   "cell_type": "code",
   "execution_count": 37,
   "metadata": {},
   "outputs": [],
   "source": [
    "# master_agent(\"What is the sum of the ending balance of the ending balance in global currency? Explain how you arrived at the answer.\")"
   ]
  },
  {
   "cell_type": "code",
   "execution_count": 38,
   "metadata": {},
   "outputs": [],
   "source": [
    "# master_agent(\"What was the question I asked last and what was your answer?\")"
   ]
  },
  {
   "cell_type": "code",
   "execution_count": null,
   "metadata": {},
   "outputs": [],
   "source": []
  }
 ],
 "metadata": {
  "kernelspec": {
   "display_name": "eureka-env",
   "language": "python",
   "name": "python3"
  },
  "language_info": {
   "codemirror_mode": {
    "name": "ipython",
    "version": 3
   },
   "file_extension": ".py",
   "mimetype": "text/x-python",
   "name": "python",
   "nbconvert_exporter": "python",
   "pygments_lexer": "ipython3",
   "version": "3.10.16"
  }
 },
 "nbformat": 4,
 "nbformat_minor": 2
}
