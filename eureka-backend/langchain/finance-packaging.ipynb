{
 "cells": [
  {
   "cell_type": "code",
   "execution_count": null,
   "metadata": {},
   "outputs": [],
   "source": [
    "# ✅ Environment Setup\n",
    "import os\n",
    "import pandas as pd\n",
    "from dotenv import load_dotenv\n",
    "from sqlalchemy import create_engine\n",
    "from langchain_openai import ChatOpenAI\n",
    "from langchain_experimental.agents.agent_toolkits import create_csv_agent\n",
    "from langchain.sql_database import SQLDatabase\n",
    "from langchain.agents.agent_toolkits import SQLDatabaseToolkit\n",
    "from langchain.agents import create_sql_agent, AgentType\n",
    "from langchain.memory import ConversationBufferMemory\n"
   ]
  },
  {
   "cell_type": "code",
   "execution_count": null,
   "metadata": {},
   "outputs": [],
   "source": [
    "# 🔐 Load API Keys\n",
    "load_dotenv()\n",
    "OPENAI_API_KEY = os.getenv(\"OPENAI_API_KEY\")\n",
    "\n",
    "if not OPENAI_API_KEY:\n",
    "    raise ValueError(\"❌ OPENAI_API_KEY is not loaded from .env\")\n",
    "\n",
    "print(\"✅ API key successfully loaded\")"
   ]
  },
  {
   "cell_type": "code",
   "execution_count": null,
   "metadata": {},
   "outputs": [],
   "source": [
    "csv_path = \"/Users/keshavsaraogi/Desktop/indorama/eureka-data/clean-csv/cleaned_finance_packaging.csv\"\n",
    "df = pd.read_csv(csv_path)"
   ]
  },
  {
   "cell_type": "code",
   "execution_count": null,
   "metadata": {},
   "outputs": [],
   "source": [
    "llm = ChatOpenAI(\n",
    "    model=\"gpt-4o\",\n",
    "    temperature=0.5\n",
    ")"
   ]
  },
  {
   "cell_type": "code",
   "execution_count": null,
   "metadata": {},
   "outputs": [],
   "source": [
    "finance_csv_memory = ConversationBufferMemory(memory_key=\"chat_history\", return_messages=True)\n",
    "finance_sql_memory = ConversationBufferMemory(memory_key=\"chat_history\", return_messages=True)"
   ]
  },
  {
   "cell_type": "code",
   "execution_count": null,
   "metadata": {},
   "outputs": [],
   "source": [
    "import spacy\n",
    "from spacy.matcher import PhraseMatcher\n",
    "from rapidfuzz import process, fuzz\n",
    "\n",
    "def normalize_query(query: str, df: pd.DataFrame) -> str:\n",
    "    nlp = spacy.blank(\"en\")\n",
    "    matcher = PhraseMatcher(nlp.vocab, attr=\"LOWER\")\n",
    "\n",
    "    # Get company names\n",
    "    company_names = df[\"Company Name\"].dropna().unique().tolist()\n",
    "    patterns = [nlp.make_doc(name) for name in company_names]\n",
    "    matcher.add(\"COMPANY\", patterns)\n",
    "\n",
    "    # Run spaCy matcher\n",
    "    doc = nlp(query)\n",
    "    matches = matcher(doc)\n",
    "\n",
    "    if matches:\n",
    "        match_id, start, end = sorted(matches, key=lambda x: x[2] - x[1], reverse=True)[0]\n",
    "        span_text = doc[start:end].text\n",
    "        matched_phrase = next((name for name in company_names if name.lower() == span_text.lower()), None)\n",
    "\n",
    "        if not matched_phrase:\n",
    "            matched_phrase = next((name for name in company_names if span_text.lower() in name.lower()), None)\n",
    "\n",
    "        if matched_phrase:\n",
    "            print(f\"✅ [spaCy] Replacing '{span_text}' → '{matched_phrase}'\")\n",
    "            return query.replace(span_text, matched_phrase)\n",
    "\n",
    "    # Fallback: fuzzy n-gram matching\n",
    "    stopwords = {\"for\", \"of\", \"in\", \"the\", \"a\", \"an\", \"on\", \"to\", \"with\", \"by\", \"and\"}\n",
    "    tokens = query.split()\n",
    "    max_ngram = 4\n",
    "    best_match = None\n",
    "    best_score = 0\n",
    "    best_ngram = \"\"\n",
    "\n",
    "    for n in range(1, max_ngram + 1):\n",
    "        for i in range(len(tokens) - n + 1):\n",
    "            ngram_tokens = tokens[i:i+n]\n",
    "            ngram = \" \".join(ngram_tokens)\n",
    "\n",
    "            # Skip short, common, or meaningless n-grams\n",
    "            if all(tok.lower() in stopwords or len(tok) <= 2 for tok in ngram_tokens):\n",
    "                continue\n",
    "\n",
    "            result = process.extractOne(ngram, company_names, scorer=fuzz.WRatio, score_cutoff=80)\n",
    "            if result:\n",
    "                match, score, _ = result\n",
    "                if score > best_score:\n",
    "                    best_match = match\n",
    "                    best_score = score\n",
    "                    best_ngram = ngram\n",
    "\n",
    "    if best_match and best_ngram:\n",
    "        print(f\"✅ [Fuzzy N-gram] Replacing '{best_ngram}' → '{best_match}'\")\n",
    "        return query.replace(best_ngram, best_match)\n",
    "\n",
    "    print(\"⚠️ No match found via spaCy or fuzzy matching.\")\n",
    "    return query\n"
   ]
  },
  {
   "cell_type": "code",
   "execution_count": null,
   "metadata": {},
   "outputs": [],
   "source": [
    "query = \"What is the total spend for Indorama?\"\n",
    "normalized_query = normalize_query(query, df)\n",
    "print(normalized_query)"
   ]
  },
  {
   "cell_type": "code",
   "execution_count": null,
   "metadata": {},
   "outputs": [],
   "source": [
    "print(df[\"Company Name\"].unique())"
   ]
  },
  {
   "cell_type": "code",
   "execution_count": null,
   "metadata": {},
   "outputs": [],
   "source": [
    "csv_agent = create_csv_agent(\n",
    "    llm,\n",
    "    csv_path,\n",
    "    verbose=True,\n",
    "    allow_dangerous_code=True,\n",
    "    handle_parsing_errors=True,\n",
    "    max_iterations=20,\n",
    "    max_execution_time=60,\n",
    "    agent_type=AgentType.OPENAI_FUNCTIONS,\n",
    "    memory=finance_csv_memory\n",
    ")"
   ]
  },
  {
   "cell_type": "code",
   "execution_count": null,
   "metadata": {},
   "outputs": [],
   "source": [
    "engine = create_engine(\"sqlite:///finance_packaging.db\")\n",
    "df.to_sql(\"finance_packaging_data\", engine, index=False, if_exists=\"replace\")\n",
    "db = SQLDatabase(engine)"
   ]
  },
  {
   "cell_type": "code",
   "execution_count": null,
   "metadata": {},
   "outputs": [],
   "source": [
    "sql_agent = create_sql_agent(\n",
    "    llm,\n",
    "    toolkit=SQLDatabaseToolkit(db=db, llm=llm),\n",
    "    verbose=True,\n",
    "    handle_parsing_errors=True,\n",
    "    max_iterations=20,\n",
    "    max_execution_time=60,\n",
    "    agent_type=AgentType.OPENAI_FUNCTIONS,\n",
    "    memory=finance_sql_memory\n",
    ")"
   ]
  },
  {
   "cell_type": "markdown",
   "metadata": {},
   "source": []
  },
  {
   "cell_type": "code",
   "execution_count": null,
   "metadata": {},
   "outputs": [],
   "source": [
    "from langchain_core.prompts import PromptTemplate\n",
    "from langchain_core.output_parsers import StrOutputParser\n",
    "\n",
    "# Optional: cache or re-use this prompt if desired\n",
    "routing_prompt = PromptTemplate.from_template(\n",
    "    \"\"\"\n",
    "You are a routing assistant that decides how to process data queries.\n",
    "\n",
    "Given the following user query:\n",
    "\"{query}\"\n",
    "\n",
    "Decide whether it should be handled using SQL (for operations like aggregation, filtering, grouping, or numeric analysis),\n",
    "or using CSV (for visualization, listing, or non-aggregated exploration). Also, when reading the data from the dataset, read it in the format of DD-MM-YYYY.\n",
    "\n",
    "Respond with only one word: \"sql\" or \"csv\".\n",
    "\"\"\"\n",
    ")\n",
    "\n",
    "def route_query(query: str) -> str:\n",
    "    chain = routing_prompt | llm | StrOutputParser()\n",
    "    result = chain.invoke({\"query\": query}).strip().lower()\n",
    "\n",
    "    if result not in {\"sql\", \"csv\"}:\n",
    "        print(f\"⚠️ Unexpected route output: {result} — defaulting to 'csv'\")\n",
    "        return \"csv\"\n",
    "    \n",
    "    return result\n"
   ]
  },
  {
   "cell_type": "code",
   "execution_count": null,
   "metadata": {},
   "outputs": [],
   "source": [
    "def master_agent(query: str):\n",
    "    query = normalize_query(query, df)\n",
    "    source = route_query(query)\n",
    "    if source == \"sql\":\n",
    "        return sql_agent.run(query)\n",
    "    else:\n",
    "        return csv_agent.run(query)"
   ]
  },
  {
   "cell_type": "code",
   "execution_count": null,
   "metadata": {},
   "outputs": [],
   "source": [
    "# 🧠 Recall Last Interaction\n",
    "def recall_last_interaction(memory):\n",
    "    messages = memory.chat_memory.messages\n",
    "    if len(messages) >= 2:\n",
    "        user_msg = messages[-2].content\n",
    "        ai_msg = messages[-1].content\n",
    "        return f\"🧠 Last Question: {user_msg}\\n💬 Last Answer: {ai_msg}\"\n",
    "    return \"🧠 No previous memory found.\"\n"
   ]
  },
  {
   "cell_type": "code",
   "execution_count": null,
   "metadata": {},
   "outputs": [],
   "source": [
    "def show_full_chat(memory):\n",
    "    print(\"🧠 Chat History:\")\n",
    "    for msg in memory.chat_memory.messages:\n",
    "        role = msg.type.capitalize()\n",
    "        print(f\"{role}: {msg.content}\")"
   ]
  },
  {
   "cell_type": "code",
   "execution_count": null,
   "metadata": {},
   "outputs": [],
   "source": [
    "#master_agent(\"What is the total Adv To Sup Local sent by Bevpak?\")"
   ]
  },
  {
   "cell_type": "code",
   "execution_count": null,
   "metadata": {},
   "outputs": [],
   "source": [
    "master_agent(\"What is the total credit balance for Supplier Name S.V.SHIPPING SERVICE LIMITED PARTNE?\")"
   ]
  },
  {
   "cell_type": "code",
   "execution_count": null,
   "metadata": {},
   "outputs": [],
   "source": [
    "master_agent(\"What is the total credit balance for Supplier Name S.V.SHIPPING SERVICE LIMITED PARTNE in quarter 1 of 2024?\")"
   ]
  },
  {
   "cell_type": "code",
   "execution_count": null,
   "metadata": {},
   "outputs": [],
   "source": [
    "#master_agent(\"What is the total Ending Balance in Global Currency for company Indorama?\")"
   ]
  },
  {
   "cell_type": "code",
   "execution_count": null,
   "metadata": {},
   "outputs": [],
   "source": [
    "# print(master_agent(\"What is the sum of the ending balance of the ending balance in global currency? Explain how you arrived at the answer.\"))"
   ]
  },
  {
   "cell_type": "code",
   "execution_count": null,
   "metadata": {},
   "outputs": [],
   "source": [
    "# print(recall_last_interaction(finance_sql_memory))"
   ]
  },
  {
   "cell_type": "code",
   "execution_count": null,
   "metadata": {},
   "outputs": [],
   "source": [
    "# agent_executer.invoke(\"How many total company codes are there in the dataset? Name them all.\")"
   ]
  },
  {
   "cell_type": "code",
   "execution_count": null,
   "metadata": {},
   "outputs": [],
   "source": [
    "# agent_executer.invoke(\"What is the sum of the debit balance in global currency? Explain how you arrived at the answer.\")"
   ]
  },
  {
   "cell_type": "code",
   "execution_count": null,
   "metadata": {},
   "outputs": [],
   "source": [
    "# agent_executer.invoke(\"What is the sum of the total credit balance in global currency? Explain how you arrived at the answer.\")"
   ]
  },
  {
   "cell_type": "code",
   "execution_count": null,
   "metadata": {},
   "outputs": [],
   "source": [
    "# agent_executer.invoke(\"Give me a list of the top 3 companies with the highest total credit balance in global currency. Explain how you arrived at the answer.\")"
   ]
  },
  {
   "cell_type": "code",
   "execution_count": null,
   "metadata": {},
   "outputs": [],
   "source": [
    "# agent_executer.invoke(\"What is the sum of the ending balance of the ending balance in global currency? Explain how you arrived at the answer.\")"
   ]
  },
  {
   "cell_type": "code",
   "execution_count": null,
   "metadata": {},
   "outputs": [],
   "source": [
    "# master_agent(\"What is the sum of the ending balance of the ending balance in global currency? Explain how you arrived at the answer.\")"
   ]
  },
  {
   "cell_type": "code",
   "execution_count": null,
   "metadata": {},
   "outputs": [],
   "source": [
    "# master_agent(\"What was the question I asked last and what was your answer?\")"
   ]
  },
  {
   "cell_type": "code",
   "execution_count": null,
   "metadata": {},
   "outputs": [],
   "source": [
    "# master_agent(\"What is the total Ending Balance in Global Currency for company Indorama?\")"
   ]
  },
  {
   "cell_type": "code",
   "execution_count": null,
   "metadata": {},
   "outputs": [],
   "source": [
    "# master_agent(\"What is the total Ending Balance in Global Currency for Bevpak?\")"
   ]
  }
 ],
 "metadata": {
  "kernelspec": {
   "display_name": "eureka-env",
   "language": "python",
   "name": "python3"
  },
  "language_info": {
   "codemirror_mode": {
    "name": "ipython",
    "version": 3
   },
   "file_extension": ".py",
   "mimetype": "text/x-python",
   "name": "python",
   "nbconvert_exporter": "python",
   "pygments_lexer": "ipython3",
   "version": "3.10.16"
  }
 },
 "nbformat": 4,
 "nbformat_minor": 2
}
