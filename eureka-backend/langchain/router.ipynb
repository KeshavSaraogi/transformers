{
 "cells": [
  {
   "cell_type": "code",
   "execution_count": 6,
   "metadata": {},
   "outputs": [],
   "source": [
    "import import_ipynb\n",
    "from finance_packaging import csv_agent as finance_csv_agent\n",
    "from finance_packaging import sql_agent as finance_sql_agent\n",
    "from inventory_packaging import csv_agent as inventory_csv_agent\n",
    "from inventory_packaging import sql_agent as inventory_sql_agent\n",
    "import json"
   ]
  },
  {
   "cell_type": "code",
   "execution_count": 7,
   "metadata": {},
   "outputs": [],
   "source": [
    "# Initialize LLM\n",
    "from langchain_openai import ChatOpenAI\n",
    "llm = ChatOpenAI(model=\"gpt-4o\", temperature=0)"
   ]
  },
  {
   "cell_type": "code",
   "execution_count": 8,
   "metadata": {},
   "outputs": [],
   "source": [
    "def classify_query(user_query):\n",
    "    system_prompt = \"\"\"\n",
    "You are a router for a multi-agent data system.\n",
    "\n",
    "Datasets: sales, finance, inventory, spend\n",
    "Sources: csv, sql\n",
    "\n",
    "Return your answer strictly in JSON:\n",
    "{\n",
    "  \"dataset\": \"<sales|finance|inventory|spend>\",\n",
    "  \"source\": \"<csv|sql>\"\n",
    "}\n",
    "\"\"\"\n",
    "\n",
    "    full_prompt = f\"{system_prompt}\\n\\nUser Query: {user_query}\\n\\nYour Response:\"\n",
    "\n",
    "    response = llm.predict(full_prompt).strip()\n",
    "\n",
    "    try:\n",
    "        result = json.loads(response)\n",
    "        dataset = result.get(\"dataset\", \"\").lower()\n",
    "        source = result.get(\"source\", \"\").lower()\n",
    "        return dataset, source\n",
    "    except:\n",
    "        print(\"Invalid router response:\", response)\n",
    "        return None, None"
   ]
  },
  {
   "cell_type": "code",
   "execution_count": 9,
   "metadata": {},
   "outputs": [],
   "source": [
    "def master_agent(user_query):\n",
    "    dataset, source = classify_query(user_query)\n",
    "\n",
    "    if dataset == \"finance\" and source == \"csv\":\n",
    "        return finance_csv_agent.run(user_query)\n",
    "    elif dataset == \"finance\" and source == \"sql\":\n",
    "        return finance_sql_agent.run(user_query)\n",
    "\n",
    "    elif dataset == \"inventory\" and source == \"csv\":\n",
    "        return inventory_csv_agent.run(user_query)\n",
    "    elif dataset == \"inventory\" and source == \"sql\":\n",
    "        return inventory_sql_agent.run(user_query)\n",
    "\n",
    "    else:\n",
    "        return \"❌ Unable to classify query.\""
   ]
  },
  {
   "cell_type": "code",
   "execution_count": 10,
   "metadata": {},
   "outputs": [
    {
     "name": "stdout",
     "output_type": "stream",
     "text": [
      "Invalid router response: ```json\n",
      "{\n",
      "  \"dataset\": \"finance\",\n",
      "  \"source\": \"sql\"\n",
      "}\n",
      "```\n",
      "\n",
      "🧠 Response:\n",
      "❌ Unable to classify query.\n"
     ]
    }
   ],
   "source": [
    "while True:\n",
    "    query = input(\"\\nAsk your question (or type 'exit'): \")\n",
    "    if query.lower() == \"exit\":\n",
    "        break\n",
    "    response = master_agent(query)\n",
    "    print(f\"\\n🧠 Response:\\n{response}\")\n"
   ]
  }
 ],
 "metadata": {
  "kernelspec": {
   "display_name": "eureka-env",
   "language": "python",
   "name": "python3"
  },
  "language_info": {
   "codemirror_mode": {
    "name": "ipython",
    "version": 3
   },
   "file_extension": ".py",
   "mimetype": "text/x-python",
   "name": "python",
   "nbconvert_exporter": "python",
   "pygments_lexer": "ipython3",
   "version": "3.10.16"
  }
 },
 "nbformat": 4,
 "nbformat_minor": 2
}
