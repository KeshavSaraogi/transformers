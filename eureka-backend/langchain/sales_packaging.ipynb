{
 "cells": [
  {
   "cell_type": "code",
   "execution_count": 1,
   "metadata": {},
   "outputs": [],
   "source": [
    "# ✅ Environment Setup\n",
    "import os\n",
    "import pandas as pd\n",
    "from dotenv import load_dotenv\n",
    "from sqlalchemy import create_engine\n",
    "from langchain_openai import ChatOpenAI\n",
    "from langchain_experimental.agents.agent_toolkits import create_csv_agent\n",
    "from langchain.sql_database import SQLDatabase\n",
    "from langchain.agents.agent_toolkits import SQLDatabaseToolkit\n",
    "from langchain.agents import create_sql_agent, AgentType\n",
    "from langchain.memory import ConversationBufferMemory"
   ]
  },
  {
   "cell_type": "code",
   "execution_count": 2,
   "metadata": {},
   "outputs": [
    {
     "name": "stdout",
     "output_type": "stream",
     "text": [
      "✅ API key successfully loaded\n"
     ]
    }
   ],
   "source": [
    "# 🔐 Load API Keys\n",
    "load_dotenv()\n",
    "OPENAI_API_KEY = os.getenv(\"OPENAI_API_KEY\")\n",
    "\n",
    "if not OPENAI_API_KEY:\n",
    "    raise ValueError(\"❌ OPENAI_API_KEY is not loaded from .env\")\n",
    "\n",
    "print(\"✅ API key successfully loaded\")"
   ]
  },
  {
   "cell_type": "code",
   "execution_count": 3,
   "metadata": {},
   "outputs": [
    {
     "name": "stderr",
     "output_type": "stream",
     "text": [
      "/var/folders/f_/mxzw7mdx4qg8bs9xn0wbblsw0000gn/T/ipykernel_23385/1836731618.py:2: DtypeWarning: Columns (9) have mixed types. Specify dtype option on import or set low_memory=False.\n",
      "  df = pd.read_csv(csv_path)\n"
     ]
    }
   ],
   "source": [
    "csv_path = \"/Users/keshavsaraogi/Desktop/indorama/eureka-data/clean-csv/cleaned_sales_packaging.csv\"\n",
    "df = pd.read_csv(csv_path)"
   ]
  },
  {
   "cell_type": "code",
   "execution_count": 4,
   "metadata": {},
   "outputs": [],
   "source": [
    "llm = ChatOpenAI(\n",
    "    model=\"gpt-4o\",\n",
    "    temperature=0.5\n",
    ")"
   ]
  },
  {
   "cell_type": "code",
   "execution_count": 5,
   "metadata": {},
   "outputs": [
    {
     "name": "stderr",
     "output_type": "stream",
     "text": [
      "/var/folders/f_/mxzw7mdx4qg8bs9xn0wbblsw0000gn/T/ipykernel_23385/2042995904.py:1: LangChainDeprecationWarning: Please see the migration guide at: https://python.langchain.com/docs/versions/migrating_memory/\n",
      "  finance_csv_memory = ConversationBufferMemory(memory_key=\"chat_history\", return_messages=True)\n"
     ]
    }
   ],
   "source": [
    "finance_csv_memory = ConversationBufferMemory(memory_key=\"chat_history\", return_messages=True)\n",
    "finance_sql_memory = ConversationBufferMemory(memory_key=\"chat_history\", return_messages=True)"
   ]
  },
  {
   "cell_type": "code",
   "execution_count": 6,
   "metadata": {},
   "outputs": [],
   "source": [
    "import spacy\n",
    "from spacy.matcher import PhraseMatcher\n",
    "from rapidfuzz import process, fuzz\n",
    "\n",
    "def normalize_query(query: str, df: pd.DataFrame) -> str:\n",
    "    nlp = spacy.blank(\"en\")\n",
    "    matcher = PhraseMatcher(nlp.vocab, attr=\"LOWER\")\n",
    "\n",
    "    # Get company names\n",
    "    company_names = df[\"Company Name\"].dropna().unique().tolist()\n",
    "    patterns = [nlp.make_doc(name) for name in company_names]\n",
    "    matcher.add(\"COMPANY\", patterns)\n",
    "\n",
    "    # Run spaCy matcher\n",
    "    doc = nlp(query)\n",
    "    matches = matcher(doc)\n",
    "\n",
    "    if matches:\n",
    "        match_id, start, end = sorted(matches, key=lambda x: x[2] - x[1], reverse=True)[0]\n",
    "        span_text = doc[start:end].text\n",
    "        matched_phrase = next((name for name in company_names if name.lower() == span_text.lower()), None)\n",
    "\n",
    "        if not matched_phrase:\n",
    "            matched_phrase = next((name for name in company_names if span_text.lower() in name.lower()), None)\n",
    "\n",
    "        if matched_phrase:\n",
    "            print(f\"✅ [spaCy] Replacing '{span_text}' → '{matched_phrase}'\")\n",
    "            return query.replace(span_text, matched_phrase)\n",
    "\n",
    "    # Fallback: fuzzy n-gram matching\n",
    "    stopwords = {\"for\", \"of\", \"in\", \"the\", \"a\", \"an\", \"on\", \"to\", \"with\", \"by\", \"and\"}\n",
    "    tokens = query.split()\n",
    "    max_ngram = 4\n",
    "    best_match = None\n",
    "    best_score = 0\n",
    "    best_ngram = \"\"\n",
    "\n",
    "    for n in range(1, max_ngram + 1):\n",
    "        for i in range(len(tokens) - n + 1):\n",
    "            ngram_tokens = tokens[i:i+n]\n",
    "            ngram = \" \".join(ngram_tokens)\n",
    "\n",
    "            # Skip short, common, or meaningless n-grams\n",
    "            if all(tok.lower() in stopwords or len(tok) <= 2 for tok in ngram_tokens):\n",
    "                continue\n",
    "\n",
    "            result = process.extractOne(ngram, company_names, scorer=fuzz.WRatio, score_cutoff=80)\n",
    "            if result:\n",
    "                match, score, _ = result\n",
    "                if score > best_score:\n",
    "                    best_match = match\n",
    "                    best_score = score\n",
    "                    best_ngram = ngram\n",
    "\n",
    "    if best_match and best_ngram:\n",
    "        print(f\"✅ [Fuzzy N-gram] Replacing '{best_ngram}' → '{best_match}'\")\n",
    "        return query.replace(best_ngram, best_match)\n",
    "\n",
    "    print(\"⚠️ No match found via spaCy or fuzzy matching.\")\n",
    "    return query\n"
   ]
  },
  {
   "cell_type": "code",
   "execution_count": 7,
   "metadata": {},
   "outputs": [
    {
     "name": "stdout",
     "output_type": "stream",
     "text": [
      "✅ [Fuzzy N-gram] Replacing 'Indorama?' → 'Indorama Ventures Packagi'\n",
      "What is the total spend for Indorama Ventures Packagi\n"
     ]
    }
   ],
   "source": [
    "query = \"What is the total spend for Indorama?\"\n",
    "normalized_query = normalize_query(query, df)\n",
    "print(normalized_query)"
   ]
  },
  {
   "cell_type": "code",
   "execution_count": 8,
   "metadata": {},
   "outputs": [
    {
     "name": "stderr",
     "output_type": "stream",
     "text": [
      "/opt/anaconda3/envs/eureka-env/lib/python3.10/site-packages/langchain_experimental/agents/agent_toolkits/csv/base.py:57: DtypeWarning: Columns (9) have mixed types. Specify dtype option on import or set low_memory=False.\n",
      "  df = pd.read_csv(path, **_kwargs)\n",
      "/opt/anaconda3/envs/eureka-env/lib/python3.10/site-packages/langchain_experimental/agents/agent_toolkits/pandas/base.py:283: UserWarning: Received additional kwargs {'handle_parsing_errors': True, 'memory': ConversationBufferMemory(chat_memory=InMemoryChatMessageHistory(messages=[]), return_messages=True, memory_key='chat_history')} which are no longer supported.\n",
      "  warnings.warn(\n"
     ]
    }
   ],
   "source": [
    "csv_agent = create_csv_agent(\n",
    "    llm,\n",
    "    csv_path,\n",
    "    verbose=True,\n",
    "    allow_dangerous_code=True,\n",
    "    handle_parsing_errors=True,\n",
    "    max_iterations=20,\n",
    "    max_execution_time=60,\n",
    "    agent_type=AgentType.OPENAI_FUNCTIONS,\n",
    "    memory=finance_csv_memory\n",
    ")"
   ]
  },
  {
   "cell_type": "code",
   "execution_count": 9,
   "metadata": {},
   "outputs": [],
   "source": [
    "engine = create_engine(\"sqlite:///finance_packaging.db\")\n",
    "df.to_sql(\"finance_packaging_data\", engine, index=False, if_exists=\"replace\")\n",
    "db = SQLDatabase(engine)"
   ]
  },
  {
   "cell_type": "code",
   "execution_count": 10,
   "metadata": {},
   "outputs": [],
   "source": [
    "sql_agent = create_sql_agent(\n",
    "    llm,\n",
    "    toolkit=SQLDatabaseToolkit(db=db, llm=llm),\n",
    "    verbose=True,\n",
    "    handle_parsing_errors=True,\n",
    "    max_iterations=20,\n",
    "    max_execution_time=60,\n",
    "    agent_type=AgentType.OPENAI_FUNCTIONS,\n",
    "    memory=finance_sql_memory\n",
    ")"
   ]
  },
  {
   "cell_type": "code",
   "execution_count": 11,
   "metadata": {},
   "outputs": [],
   "source": [
    "\n",
    "from langchain_core.prompts import PromptTemplate\n",
    "from langchain_core.output_parsers import StrOutputParser\n",
    "\n",
    "# Optional: cache or re-use this prompt if desired\n",
    "routing_prompt = PromptTemplate.from_template(\n",
    "    \"\"\"\n",
    "You are a routing assistant that decides how to process data queries.\n",
    "\n",
    "Given the following user query:\n",
    "\"{query}\"\n",
    "\n",
    "Decide whether it should be handled using SQL (for operations like aggregation, filtering, grouping, or numeric analysis),\n",
    "or using CSV (for visualization, listing, or non-aggregated exploration). \n",
    "\n",
    "Also, when reading the data from the dataset, read it in the format of DD-MM-YYYY.\n",
    "\n",
    "Respond with only one word: \"sql\" or \"csv\".\n",
    "\"\"\"\n",
    ")\n",
    "\n",
    "def route_query(query: str) -> str:\n",
    "    chain = routing_prompt | llm | StrOutputParser()\n",
    "    result = chain.invoke({\"query\": query}).strip().lower()\n",
    "\n",
    "    if result not in {\"sql\", \"csv\"}:\n",
    "        print(f\"⚠️ Unexpected route output: {result} — defaulting to 'csv'\")\n",
    "        return \"csv\"\n",
    "    \n",
    "    return result\n"
   ]
  },
  {
   "cell_type": "code",
   "execution_count": 12,
   "metadata": {},
   "outputs": [],
   "source": [
    "def master_agent(query: str):\n",
    "    query = normalize_query(query, df)\n",
    "    source = route_query(query)\n",
    "    if source == \"sql\":\n",
    "        return sql_agent.run(query)\n",
    "    else:\n",
    "        return csv_agent.run(query)"
   ]
  },
  {
   "cell_type": "code",
   "execution_count": 13,
   "metadata": {},
   "outputs": [],
   "source": [
    "# 🧠 Recall Last Interaction\n",
    "def recall_last_interaction(memory):\n",
    "    messages = memory.chat_memory.messages\n",
    "    if len(messages) >= 2:\n",
    "        user_msg = messages[-2].content\n",
    "        ai_msg = messages[-1].content\n",
    "        return f\"🧠 Last Question: {user_msg}\\n💬 Last Answer: {ai_msg}\"\n",
    "    return \"🧠 No previous memory found.\"\n"
   ]
  },
  {
   "cell_type": "code",
   "execution_count": 14,
   "metadata": {},
   "outputs": [],
   "source": [
    "def show_full_chat(memory):\n",
    "    print(\"🧠 Chat History:\")\n",
    "    for msg in memory.chat_memory.messages:\n",
    "        role = msg.type.capitalize()\n",
    "        print(f\"{role}: {msg.content}\")"
   ]
  },
  {
   "cell_type": "code",
   "execution_count": 15,
   "metadata": {},
   "outputs": [],
   "source": [
    "#master_agent(\"What is the sum Quantity MT for Bevpak in Q1 2024?\")"
   ]
  },
  {
   "cell_type": "code",
   "execution_count": 16,
   "metadata": {},
   "outputs": [],
   "source": [
    "#master_agent(\"What is the total tax amount for Bevpak in Q1 2024?\")"
   ]
  },
  {
   "cell_type": "code",
   "execution_count": 17,
   "metadata": {},
   "outputs": [],
   "source": [
    "#master_agent(\"Based on total sale in year 2024, can you predict which customer is most likely to be profitable in year 2025?\")"
   ]
  },
  {
   "cell_type": "code",
   "execution_count": 18,
   "metadata": {},
   "outputs": [],
   "source": [
    "#master_agent(\"Based on total sale in year 2024, can you predict which customer is most likely to be profitable in year 2025, only for company code NG10?\")"
   ]
  },
  {
   "cell_type": "code",
   "execution_count": 19,
   "metadata": {},
   "outputs": [],
   "source": [
    "#master_agent(\"For cusomter SEVEN UP BOTTLING CO PLC, can you compare sales in different quarters of 2024? Tell me which quarter is more profitable and why?\")"
   ]
  },
  {
   "cell_type": "code",
   "execution_count": 20,
   "metadata": {},
   "outputs": [],
   "source": [
    "#master_agent(\"For PH10, which material's sales has risen by at least 50 percent comparing Q1 2024 and Q4 2024?\")"
   ]
  },
  {
   "cell_type": "code",
   "execution_count": 21,
   "metadata": {},
   "outputs": [],
   "source": [
    "#master_agent(\"what is the sales volume for material description OCLAB1881B,K3**,PL****,SA2,00SA2,SL2P5** for each month in year 2024?\")"
   ]
  },
  {
   "cell_type": "code",
   "execution_count": 22,
   "metadata": {},
   "outputs": [],
   "source": [
    "#master_agent(\"What are the top 10 materials by sales volume in company PH10 in terms of net sales values?\")"
   ]
  },
  {
   "cell_type": "code",
   "execution_count": 23,
   "metadata": {},
   "outputs": [],
   "source": [
    "#master_agent(\"What are the top 3 materials by net sales volume in company PH10?\")"
   ]
  },
  {
   "cell_type": "code",
   "execution_count": 24,
   "metadata": {},
   "outputs": [],
   "source": [
    "#master_agent(\"What are the top 3 materials by net invoice value in company PH10 for 2024?\")"
   ]
  },
  {
   "cell_type": "code",
   "execution_count": 25,
   "metadata": {},
   "outputs": [],
   "source": [
    "#master_agent(\"what is the top 3 net sales volume for year 2024? Give me the name of the company and explain your reasoning.\")"
   ]
  },
  {
   "cell_type": "code",
   "execution_count": 26,
   "metadata": {},
   "outputs": [],
   "source": [
    "#master_agent(\"What is the top company for net sales volume in 2024. Give me the company name and explain your reasoning.\")"
   ]
  },
  {
   "cell_type": "code",
   "execution_count": 27,
   "metadata": {},
   "outputs": [],
   "source": [
    "#master_agent(\"What is the total sales for customer Coca-cola Beverages Philippines, In in 2024?\")"
   ]
  },
  {
   "cell_type": "code",
   "execution_count": 28,
   "metadata": {},
   "outputs": [],
   "source": [
    "#master_agent(\"What is the meaning of profit in this dataset?\")"
   ]
  },
  {
   "cell_type": "code",
   "execution_count": 29,
   "metadata": {},
   "outputs": [],
   "source": [
    "#master_agent(\"Which material has the highest profit in 2024?\")"
   ]
  },
  {
   "cell_type": "code",
   "execution_count": 30,
   "metadata": {},
   "outputs": [],
   "source": [
    "#master_agent(\"On which day has the material OPF18.5A0,084CL***,AD3,*****,***,W4,**** provided the highest profit in year 2024? Give me all the steps for calculations and the values from each column.\")"
   ]
  },
  {
   "cell_type": "code",
   "execution_count": 31,
   "metadata": {},
   "outputs": [],
   "source": [
    "def calculate_profitability(file_path):\n",
    "    import pandas as pd\n",
    "\n",
    "    df = pd.read_csv(file_path)\n",
    "    \n",
    "    # Cost Columns\n",
    "    cost_columns_per_mt = [\n",
    "        'Marine Insurance(USD/MT)', 'Freight Charge Road(USD/MT)',\n",
    "        'Freight Charge Sea(USD/MT)', 'Fobbing Charge Sea O/B(USD/MT)',\n",
    "        'Destination Charge Sea(USD/MT)', 'Freight Charge Air(USD/MT)',\n",
    "        'Credit Insurance Cost(USD/MT)', 'Interest Cost (CC)(USD/MT)',\n",
    "        'Power Fuel Utilities(USD/MT)', 'Packing Cost(USD/MT)', 'MB Cost(USD/MT)'\n",
    "    ]\n",
    "\n",
    "    # Profit Calculations\n",
    "    df['Total Cost per MT'] = df[cost_columns_per_mt].sum(axis=1)\n",
    "    df['Total Cost'] = df['Quantity MT'] * df['Total Cost per MT']\n",
    "    df['Export Incentive Reduction'] = df['Quantity MT'] * df['Export Incentive(USD/MT)']\n",
    "    df['Adjusted Total Cost'] = df['Total Cost'] - df['Export Incentive Reduction']\n",
    "    df['Profit'] = df['Invoice Net value'] - df['Adjusted Total Cost']\n",
    "    df['Profit Margin Ratio (%)'] = (df['Profit'] / df['Invoice Net value']) * 100\n",
    "\n",
    "    # IQR & Outliers\n",
    "    q1 = df['Profit Margin Ratio (%)'].quantile(0.25)\n",
    "    q3 = df['Profit Margin Ratio (%)'].quantile(0.75)\n",
    "    iqr = q3 - q1\n",
    "    lower_bound = q1 - 1.5 * iqr\n",
    "    upper_bound = q3 + 1.5 * iqr\n",
    "    df['Is Outlier'] = ~df['Profit Margin Ratio (%)'].between(lower_bound, upper_bound)\n",
    "\n",
    "    summary = {\n",
    "        \"Q1\": round(q1, 2),\n",
    "        \"Q3\": round(q3, 2),\n",
    "        \"IQR\": round(iqr, 2),\n",
    "        \"Lower Bound\": round(lower_bound, 2),\n",
    "        \"Upper Bound\": round(upper_bound, 2),\n",
    "        \"Total Records\": len(df),\n",
    "        \"Total Outliers\": int(df['Is Outlier'].sum())\n",
    "    }\n",
    "\n",
    "    return summary\n"
   ]
  },
  {
   "cell_type": "code",
   "execution_count": 32,
   "metadata": {},
   "outputs": [],
   "source": [
    "from langchain.tools import tool\n",
    "\n",
    "@tool\n",
    "def profitability_tool(file_path: str) -> str:\n",
    "    \"\"\"\n",
    "    Calculate profit margin, IQR, outlier detection, and return summary.\n",
    "    \"\"\"\n",
    "    summary = calculate_profitability(file_path)\n",
    "    response = \"\\n\".join([f\"{k}: {v}\" for k, v in summary.items()])\n",
    "    return response\n"
   ]
  },
  {
   "cell_type": "code",
   "execution_count": 39,
   "metadata": {},
   "outputs": [],
   "source": [
    "from langchain.tools import tool\n",
    "\n",
    "@tool\n",
    "def run_sql_agent(query: str) -> str:\n",
    "    \"\"\"Run the SQL Agent to answer SQL database queries.\"\"\"\n",
    "    return sql_agent.invoke(query)\n",
    "\n",
    "@tool\n",
    "def run_csv_agent(query: str) -> str:\n",
    "    \"\"\"Run the CSV Agent to answer questions based on CSV file.\"\"\"\n",
    "    return csv_agent.invoke(query)"
   ]
  },
  {
   "cell_type": "code",
   "execution_count": 40,
   "metadata": {},
   "outputs": [],
   "source": [
    "from langchain_openai import ChatOpenAI\n",
    "from langchain.agents import initialize_agent, AgentType\n",
    "\n",
    "# Initialize LLM\n",
    "llm = ChatOpenAI(temperature=0, model=\"gpt-4o\")\n",
    "\n",
    "tools = [profitability_tool, run_sql_agent, run_csv_agent]\n",
    "\n",
    "agent = initialize_agent(\n",
    "    tools, \n",
    "    llm, \n",
    "    agent=AgentType.ZERO_SHOT_REACT_DESCRIPTION, \n",
    "    verbose=True, \n",
    "    allow_dangerous_code=True, \n",
    "    handle_parsing_errors=True, \n",
    "    max_iterations=20, \n",
    "    max_execution_time=60, \n",
    "    memory=finance_csv_memory,\n",
    "    is_single_input=True\n",
    ")\n",
    "\n"
   ]
  },
  {
   "cell_type": "code",
   "execution_count": 41,
   "metadata": {},
   "outputs": [
    {
     "name": "stdout",
     "output_type": "stream",
     "text": [
      "\n",
      "\n",
      "\u001b[1m> Entering new AgentExecutor chain...\u001b[0m\n",
      "\u001b[32;1m\u001b[1;3mTo determine the profitability for each company in the provided CSV file, I will use the `profitability_tool` to calculate the profit margin, IQR, and outlier detection. \n",
      "\n",
      "Action: profitability_tool\n",
      "Action Input: /Users/keshavsaraogi/Desktop/indorama/eureka-data/clean-csv/cleaned_sales_packaging.csv\u001b[0m\n",
      "Observation: \u001b[36;1m\u001b[1;3mQ1: 88.11\n",
      "Q3: 96.93\n",
      "IQR: 8.82\n",
      "Lower Bound: 74.87\n",
      "Upper Bound: 110.16\n",
      "Total Records: 41827\n",
      "Total Outliers: 2542\u001b[0m\n",
      "Thought:"
     ]
    },
    {
     "name": "stderr",
     "output_type": "stream",
     "text": [
      "/var/folders/f_/mxzw7mdx4qg8bs9xn0wbblsw0000gn/T/ipykernel_23385/4267679204.py:4: DtypeWarning: Columns (9) have mixed types. Specify dtype option on import or set low_memory=False.\n",
      "  df = pd.read_csv(file_path)\n"
     ]
    },
    {
     "name": "stdout",
     "output_type": "stream",
     "text": [
      "\u001b[32;1m\u001b[1;3mThe `profitability_tool` has provided the following summary for the profitability analysis of the companies in the CSV file:\n",
      "\n",
      "- **Q1 (First Quartile):** 88.11\n",
      "- **Q3 (Third Quartile):** 96.93\n",
      "- **IQR (Interquartile Range):** 8.82\n",
      "- **Lower Bound for Outliers:** 74.87\n",
      "- **Upper Bound for Outliers:** 110.16\n",
      "- **Total Records Analyzed:** 41,827\n",
      "- **Total Outliers Detected:** 2,542\n",
      "\n",
      "This analysis indicates the spread and distribution of profitability margins across the companies in the dataset. The IQR is used to identify outliers, which are values below 74.87 or above 110.16. There are 2,542 outliers in the dataset.\n",
      "\n",
      "Final Answer: The profitability analysis shows a Q1 of 88.11, Q3 of 96.93, IQR of 8.82, with 2,542 outliers detected out of 41,827 records. Outliers are values below 74.87 or above 110.16.\u001b[0m\n",
      "\n",
      "\u001b[1m> Finished chain.\u001b[0m\n",
      "{'input': 'Please tell me the profitability for each company in the following file: /Users/keshavsaraogi/Desktop/indorama/eureka-data/clean-csv/cleaned_sales_packaging.csv', 'chat_history': [HumanMessage(content='Please tell me the profitability for each company in the following file: /Users/keshavsaraogi/Desktop/indorama/eureka-data/clean-csv/cleaned_sales_packaging.csv', additional_kwargs={}, response_metadata={}), AIMessage(content='The profitability analysis shows a Q1 of 88.11, Q3 of 96.93, IQR of 8.82, with 2,542 outliers detected out of 41,827 records. Outliers are values below 74.87 or above 110.16.', additional_kwargs={}, response_metadata={})], 'output': 'The profitability analysis shows a Q1 of 88.11, Q3 of 96.93, IQR of 8.82, with 2,542 outliers detected out of 41,827 records. Outliers are values below 74.87 or above 110.16.'}\n"
     ]
    }
   ],
   "source": [
    "# Replace with your file path\n",
    "file_path = csv_path\n",
    "\n",
    "# Query the agent\n",
    "query = f\"Please tell me the profitability for each company in the following file: {file_path}\"\n",
    "response = agent.invoke(query)\n",
    "print(response)\n"
   ]
  }
 ],
 "metadata": {
  "kernelspec": {
   "display_name": "eureka-env",
   "language": "python",
   "name": "python3"
  },
  "language_info": {
   "codemirror_mode": {
    "name": "ipython",
    "version": 3
   },
   "file_extension": ".py",
   "mimetype": "text/x-python",
   "name": "python",
   "nbconvert_exporter": "python",
   "pygments_lexer": "ipython3",
   "version": "3.10.16"
  }
 },
 "nbformat": 4,
 "nbformat_minor": 2
}
