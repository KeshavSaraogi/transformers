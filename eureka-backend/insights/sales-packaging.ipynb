{
 "cells": [
  {
   "cell_type": "code",
   "execution_count": null,
   "metadata": {},
   "outputs": [],
   "source": [
    "!pip install langchain"
   ]
  },
  {
   "cell_type": "code",
   "execution_count": null,
   "metadata": {},
   "outputs": [],
   "source": [
    "# --- 1. Load Environment ---\n",
    "import os\n",
    "from dotenv import load_dotenv\n",
    "\n",
    "load_dotenv()\n",
    "OPENAI_API_KEY = os.getenv(\"OPENAI_API_KEY\")\n",
    "\n",
    "if not OPENAI_API_KEY:\n",
    "    raise ValueError(\"❌ OPENAI_API_KEY is not loaded from .env\")\n",
    "print(\"✅ API key successfully loaded\")"
   ]
  },
  {
   "cell_type": "code",
   "execution_count": null,
   "metadata": {},
   "outputs": [],
   "source": [
    "import pandas as pd\n",
    "\n",
    "DATA_PATH = \"/Users/keshavsaraogi/Desktop/indorama/eureka-data/clean-csv/cleaned_sales_packaging.csv\"\n",
    "df = pd.read_csv(DATA_PATH, parse_dates=[\"Sales Invoice Date\"])\n",
    "\n",
    "# Enrichment\n",
    "df['Year'] = df['Sales Invoice Date'].dt.year\n",
    "df['Month'] = df['Sales Invoice Date'].dt.to_period(\"M\")"
   ]
  },
  {
   "cell_type": "code",
   "execution_count": null,
   "metadata": {},
   "outputs": [],
   "source": [
    "# --- 3. Compute Analytical Summaries ---\n",
    "def summarize_data(df):\n",
    "    recent_months = df.groupby('Month')['Invoice Net value'].sum().sort_index().tail(6).to_dict()\n",
    "    top_customers = df.groupby('Customer')['Invoice Net value'].sum().sort_values(ascending=False).head(3).to_dict()\n",
    "    correlation = df.corr(numeric_only=True).stack().sort_values(ascending=False)\n",
    "    correlation = correlation[(correlation < 0.95) & (correlation > 0.6)].head(3).to_dict()\n",
    "    \n",
    "    return {\n",
    "        \"monthly_trend\": recent_months,\n",
    "        \"top_customers\": top_customers,\n",
    "        \"correlations\": correlation\n",
    "    }\n"
   ]
  },
  {
   "cell_type": "code",
   "execution_count": null,
   "metadata": {},
   "outputs": [],
   "source": [
    "# --- 4. Define LangChain Tool ---\n",
    "from langchain.chat_models import ChatOpenAI\n",
    "from langchain.tools import Tool\n",
    "\n",
    "data_summary = summarize_data(df)\n",
    "\n",
    "def deep_data_insight(question: str) -> str:\n",
    "    llm = ChatOpenAI(model=\"gpt-4\", temperature=0.4)\n",
    "\n",
    "    prompt = f\"\"\"\n",
    "You are a senior financial analyst with access to sales data.\n",
    "\n",
    "I want to provide a formula that sales volume refers to the invoice net value. \n",
    "\n",
    "User question: \"{question}\"\n",
    "\n",
    "Below is computed insight from the dataset:\n",
    "- 🗓 Monthly Net Value (Last 6 Months): {data_summary['monthly_trend']}\n",
    "- 👥 Top 3 Customers by Net Invoice Value: {data_summary['top_customers']}\n",
    "- 📈 Strong Correlations Detected: {data_summary['correlations']}\n",
    "\n",
    "Provide a deep, specific, and evidence-based answer. Avoid generic statements.\n",
    "\"\"\"\n",
    "    return llm.predict(prompt)\n",
    "\n",
    "insight_tool = Tool(\n",
    "    name=\"DeepSalesInsightTool\",\n",
    "    func=deep_data_insight,\n",
    "    description=\"Uses data trends, top customers, and correlations to uncover hidden patterns in the dataset.\"\n",
    ")\n"
   ]
  },
  {
   "cell_type": "code",
   "execution_count": null,
   "metadata": {},
   "outputs": [],
   "source": [
    "# --- 5. Create Agent ---\n",
    "from langchain.agents import initialize_agent\n",
    "\n",
    "llm = ChatOpenAI(model=\"gpt-4\", temperature=0)\n",
    "agent = initialize_agent(\n",
    "    tools=[insight_tool],\n",
    "    llm=llm,\n",
    "    agent=\"zero-shot-react-description\",\n",
    "    verbose=True\n",
    ")\n"
   ]
  },
  {
   "cell_type": "code",
   "execution_count": null,
   "metadata": {},
   "outputs": [],
   "source": [
    "# --- 6. Run the Agent with Real Data Insight ---\n",
    "response = agent.run(\"What unexpected trend is occurring in the dataset for each querter?\")\n",
    "print(response)\n"
   ]
  },
  {
   "cell_type": "code",
   "execution_count": null,
   "metadata": {},
   "outputs": [],
   "source": [
    "agent.run(\"Which customer and company has been the most profitable in the last 6 months? What is the trend and explain the calculations?\")"
   ]
  },
  {
   "cell_type": "code",
   "execution_count": null,
   "metadata": {},
   "outputs": [],
   "source": [
    "agent.run(\"Which company has been able to minimise their costs effectively in the last 6 months? What is the trend and explain the calculations?\")"
   ]
  },
  {
   "cell_type": "code",
   "execution_count": null,
   "metadata": {},
   "outputs": [],
   "source": [
    "agent.run(\"Which customer has been the most profitable in Q1 2024?\")"
   ]
  },
  {
   "cell_type": "code",
   "execution_count": null,
   "metadata": {},
   "outputs": [],
   "source": [
    "agent.run(\"List the top 5 customers by invoice net value in Q3 2024?\")"
   ]
  },
  {
   "cell_type": "code",
   "execution_count": null,
   "metadata": {},
   "outputs": [],
   "source": [
    "agent.run(\"List the top 5 customers by sales volume in Q3 2024?\")"
   ]
  }
 ],
 "metadata": {
  "kernelspec": {
   "display_name": "eureka-env",
   "language": "python",
   "name": "python3"
  },
  "language_info": {
   "codemirror_mode": {
    "name": "ipython",
    "version": 3
   },
   "file_extension": ".py",
   "mimetype": "text/x-python",
   "name": "python",
   "nbconvert_exporter": "python",
   "pygments_lexer": "ipython3",
   "version": "3.10.16"
  }
 },
 "nbformat": 4,
 "nbformat_minor": 2
}
