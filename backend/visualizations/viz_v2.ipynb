{
 "cells": [
  {
   "cell_type": "markdown",
   "id": "b78db0b0",
   "metadata": {},
   "source": [
    "# 1️⃣ Configuration"
   ]
  },
  {
   "cell_type": "code",
   "execution_count": null,
   "id": "15bb6d35",
   "metadata": {},
   "outputs": [],
   "source": [
    "import os\n",
    "import pandas as pd\n",
    "import sqlite3\n",
    "from sqlalchemy import create_engine\n",
    "from langchain_openai import ChatOpenAI\n",
    "from langchain_experimental.agents import create_csv_agent\n",
    "from langchain_community.utilities import SQLDatabase\n",
    "from langchain_community.agent_toolkits import SQLDatabaseToolkit, create_sql_agent\n",
    "from langchain_core.prompts import PromptTemplate\n",
    "from langchain_core.output_parsers import StrOutputParser"
   ]
  },
  {
   "cell_type": "code",
   "execution_count": null,
   "id": "60fcb62d",
   "metadata": {},
   "outputs": [],
   "source": [
    "from dotenv import load_dotenv\n",
    "load_dotenv()\n",
    "\n",
    "os.environ[\"OPENAI_API_KEY\"] = os.getenv(\"OPENAI_API_KEY\")"
   ]
  },
  {
   "cell_type": "code",
   "execution_count": null,
   "id": "cae56c35",
   "metadata": {},
   "outputs": [],
   "source": [
    "finance_file = \"/Users/keshavsaraogi/Desktop/indorama/eureka-data/clean-csv/cleaned_finance_packaging.csv\"\n",
    "inventory_file = \"/Users/keshavsaraogi/Desktop/indorama/eureka-data/clean-csv/cleaned_inventory_packaging.csv\"\n",
    "spend_file = \"/Users/keshavsaraogi/Desktop/indorama/eureka-data/clean-csv/cleaned_spend_packaging.csv\"\n",
    "sales_file = \"/Users/keshavsaraogi/Desktop/indorama/eureka-data/clean-csv/cleaned_sales_packaging.csv\""
   ]
  },
  {
   "cell_type": "code",
   "execution_count": null,
   "id": "168ca4f1",
   "metadata": {},
   "outputs": [],
   "source": [
    "# Load CSV into pandas\n",
    "finance_df = pd.read_csv(finance_file)\n",
    "inventory_df = pd.read_csv(inventory_file)\n",
    "spend_df = pd.read_csv(spend_file)\n",
    "sales_df = pd.read_csv(sales_file)"
   ]
  },
  {
   "cell_type": "code",
   "execution_count": null,
   "id": "89c17e72",
   "metadata": {},
   "outputs": [],
   "source": [
    "def create_in_memory_db(df, table_name):\n",
    "    conn = sqlite3.connect(\":memory:\", check_same_thread=False)\n",
    "    df.to_sql(table_name, conn, index=False, if_exists=\"replace\")\n",
    "    return conn"
   ]
  },
  {
   "cell_type": "code",
   "execution_count": null,
   "id": "97584b97",
   "metadata": {},
   "outputs": [],
   "source": [
    "finance_db = create_in_memory_db(finance_df, \"finance\")\n",
    "inventory_db = create_in_memory_db(inventory_df, \"inventory\")\n",
    "spend_db = create_in_memory_db(spend_df, \"spend\")\n",
    "sales_db = create_in_memory_db(sales_df, \"sales\")"
   ]
  },
  {
   "cell_type": "code",
   "execution_count": null,
   "id": "b6fbb025",
   "metadata": {},
   "outputs": [],
   "source": [
    "finance_engine = create_engine(\"sqlite://\", creator=lambda: finance_db)\n",
    "inventory_engine = create_engine(\"sqlite://\", creator=lambda: inventory_db)\n",
    "spend_engine = create_engine(\"sqlite://\", creator=lambda: spend_db)\n",
    "sales_engine = create_engine(\"sqlite://\", creator=lambda: sales_db)"
   ]
  },
  {
   "cell_type": "code",
   "execution_count": null,
   "id": "b3413f1d",
   "metadata": {},
   "outputs": [],
   "source": [
    "finance_sql_db = SQLDatabase(engine=finance_engine, sample_rows_in_table_info=5)\n",
    "inventory_sql_db = SQLDatabase(engine=inventory_engine, sample_rows_in_table_info=5)\n",
    "spend_sql_db = SQLDatabase(engine=spend_engine, sample_rows_in_table_info=5)\n",
    "sales_sql_db = SQLDatabase(engine=sales_engine, sample_rows_in_table_info=5)"
   ]
  },
  {
   "cell_type": "code",
   "execution_count": null,
   "id": "c929a48b",
   "metadata": {},
   "outputs": [],
   "source": [
    "llm = ChatOpenAI(temperature=0.5, model=\"gpt-4o\")"
   ]
  },
  {
   "cell_type": "code",
   "execution_count": null,
   "id": "b7708acc",
   "metadata": {},
   "outputs": [],
   "source": [
    "finance_toolkit = SQLDatabaseToolkit(db=finance_sql_db, llm=llm)\n",
    "inventory_toolkit = SQLDatabaseToolkit(db=inventory_sql_db, llm=llm)\n",
    "spend_toolkit = SQLDatabaseToolkit(db=spend_sql_db, llm=llm)\n",
    "sales_toolkit = SQLDatabaseToolkit(db=sales_sql_db, llm=llm)"
   ]
  },
  {
   "cell_type": "code",
   "execution_count": null,
   "id": "c426630c",
   "metadata": {},
   "outputs": [],
   "source": [
    "def get_column_names(filepath):\n",
    "    df = pd.read_csv(filepath, nrows=1)\n",
    "    return list(df.columns)\n",
    "\n",
    "finance_columns = get_column_names(finance_file)\n",
    "inventory_columns = get_column_names(inventory_file)\n",
    "spend_columns = get_column_names(spend_file)\n",
    "sales_columns = get_column_names(sales_file)"
   ]
  },
  {
   "cell_type": "markdown",
   "id": "a24217ae",
   "metadata": {},
   "source": [
    "# 2️⃣ Tools & Agents"
   ]
  },
  {
   "cell_type": "code",
   "execution_count": null,
   "id": "bb0d771a",
   "metadata": {},
   "outputs": [],
   "source": [
    "\n",
    "sql_agent_prompt_prefix = \"\"\"\n",
    "You are a SQL expert agent following ReAct reasoning.\n",
    "\n",
    "- You must ALWAYS output Thought -> Action -> Observation -> Final Answer.\n",
    "- DO NOT output meta commentary.\n",
    "- After seeing Observation results (SQL query output), ALWAYS extract concrete values.\n",
    "- ALWAYS summarize the result table to answer the user's original question directly.\n",
    "- NEVER say \"the query successfully identifies...\" — always give actual values.\n",
    "- DO NOT wrap SQL code in markdown formatting or backticks.\n",
    "- ONLY output valid SQL without formatting.\n",
    "- If column names contain spaces, enclose them in double quotes.\n",
    "- The SQL dialect is SQLite.\n",
    "- ALWAYS use the available tools (sql_db_query) to execute your queries.\n",
    "- NEVER just write SQL queries.\n",
    "- ALWAYS call the action sql_db_query with the query as input.\n",
    "- You are allowed to chain multiple queries to answer the question.\n",
    "- If you encounter repeated errors or cannot execute the SQL query, still follow the ReAct format.\n",
    "- When unable to answer, output:\n",
    "Thought: I am unable to answer.\n",
    "Final Answer: Unable to retrieve the data due to internal error.\n",
    "- Do not write freeform explanations.\n",
    "- Never write paragraphs describing failure.\n",
    "- NEVER output markdown formatting.\n",
    "- NEVER output queries inside triple backticks or code fences.\n",
    "- ONLY output raw SQL text.\n",
    "- SQLite does not support '%q' for quarters.\n",
    "- To compute quarter, use strftime('%m', \"Date\") and CASE WHEN statements.\n",
    "- NEVER use '%q' inside strftime() queries.\n",
    "\"\"\"\n"
   ]
  },
  {
   "cell_type": "code",
   "execution_count": null,
   "id": "15bb6d35",
   "metadata": {},
   "outputs": [],
   "source": [
    "import os\n",
    "import pandas as pd\n",
    "import sqlite3\n",
    "from sqlalchemy import create_engine\n",
    "from langchain_openai import ChatOpenAI\n",
    "from langchain_experimental.agents import create_csv_agent\n",
    "from langchain_community.utilities import SQLDatabase\n",
    "from langchain_community.agent_toolkits import SQLDatabaseToolkit, create_sql_agent\n",
    "from langchain_core.prompts import PromptTemplate\n",
    "from langchain_core.output_parsers import StrOutputParser"
   ]
  },
  {
   "cell_type": "code",
   "execution_count": null,
   "id": "cc1b9a88",
   "metadata": {},
   "outputs": [],
   "source": [
    "finance_csv_agent = create_csv_agent(llm, finance_file, verbose=True, allow_dangerous_code=True)\n",
    "inventory_csv_agent = create_csv_agent(llm, inventory_file, verbose=True, allow_dangerous_code=True)\n",
    "spend_csv_agent = create_csv_agent(llm, spend_file, verbose=True, allow_dangerous_code=True)\n",
    "sales_csv_agent = create_csv_agent(llm, sales_file, verbose=True, allow_dangerous_code=True)"
   ]
  },
  {
   "cell_type": "code",
   "execution_count": null,
   "id": "b7708acc",
   "metadata": {},
   "outputs": [],
   "source": [
    "finance_toolkit = SQLDatabaseToolkit(db=finance_sql_db, llm=llm)\n",
    "inventory_toolkit = SQLDatabaseToolkit(db=inventory_sql_db, llm=llm)\n",
    "spend_toolkit = SQLDatabaseToolkit(db=spend_sql_db, llm=llm)\n",
    "sales_toolkit = SQLDatabaseToolkit(db=sales_sql_db, llm=llm)"
   ]
  },
  {
   "cell_type": "code",
   "execution_count": null,
   "id": "00b0048e",
   "metadata": {},
   "outputs": [],
   "source": [
    "finance_sql_agent = create_sql_agent(llm=llm, toolkit=finance_toolkit, verbose=True, max_iterations=40, max_execution_time=120, handle_parsing_errors=True, early_stopping_method=\"generate\",prefix=sql_agent_prompt_prefix)\n",
    "inventory_sql_agent = create_sql_agent(llm=llm, toolkit=inventory_toolkit, verbose=True, max_iterations=40, max_execution_time=120, handle_parsing_errors=True, early_stopping_method=\"generate\", prefix=sql_agent_prompt_prefix)\n",
    "spend_sql_agent = create_sql_agent(llm=llm, toolkit=spend_toolkit, verbose=True, max_iterations=40, max_execution_time=120, handle_parsing_errors=True, early_stopping_method=\"generate\",prefix=sql_agent_prompt_prefix)\n",
    "sales_sql_agent = create_sql_agent(llm=llm, toolkit=sales_toolkit, verbose=True, max_iterations=40, max_execution_time=120, handle_parsing_errors=True, early_stopping_method=\"generate\",prefix=sql_agent_prompt_prefix)"
   ]
  },
  {
   "cell_type": "markdown",
   "id": "d7862b25",
   "metadata": {},
   "source": [
    "# 3️⃣ Visualization Tool"
   ]
  },
  {
   "cell_type": "code",
   "execution_count": null,
   "id": "76fb6dc7",
   "metadata": {},
   "outputs": [],
   "source": [
    "\n",
    "# 🔹 Import Matplotlib\n",
    "import matplotlib.pyplot as plt\n",
    "\n",
    "# 🔹 Import Prompt & Parser for LLM-based classification\n",
    "from langchain_core.prompts import PromptTemplate\n",
    "from langchain_core.output_parsers import StrOutputParser\n",
    "\n",
    "# 🔹 Prompt Template\n",
    "visualization_prompt = PromptTemplate.from_template(\"\"\"\n",
    "You are a visualization expert.\n",
    "Given a user query and the result table columns, suggest the most appropriate visualization type.\n",
    "\n",
    "User Query: \"{query}\"\n",
    "Result Columns: {columns}\n",
    "\n",
    "Available chart types: [\"bar\", \"line\", \"scatter\", \"pie\", \"histogram\", \"none\"]\n",
    "\n",
    "Answer with ONLY the chart type (one word).\n",
    "\"\"\")\n",
    "\n",
    "# 🔹 LLM Chain\n",
    "visualization_chain = visualization_prompt | llm | StrOutputParser()\n",
    "\n",
    "# 🔹 Classifier Function\n",
    "def classify_visualization_type(user_query, df_result):\n",
    "    columns_str = \", \".join(df_result.columns)\n",
    "    chart_type = visualization_chain.invoke({\n",
    "        \"query\": user_query,\n",
    "        \"columns\": columns_str\n",
    "    }).strip().lower()\n",
    "    return chart_type\n",
    "\n",
    "# 🔹 Visualization Tool Function\n",
    "def visualization_tool(user_query, df_result):\n",
    "    chart_type = classify_visualization_type(user_query, df_result)\n",
    "    print(f\"🔍 LLM-chosen chart type: {chart_type}\")\n",
    "\n",
    "    x_col = df_result.columns[0]\n",
    "    y_col = df_result.columns[1] if len(df_result.columns) > 1 else None\n",
    "\n",
    "    fig, ax = plt.subplots(figsize=(8, 6))\n",
    "\n",
    "    if chart_type == \"bar\" and y_col:\n",
    "        df_result.plot(kind='bar', x=x_col, y=y_col, ax=ax)\n",
    "    elif chart_type == \"line\" and y_col:\n",
    "        df_result.plot(kind='line', x=x_col, y=y_col, ax=ax)\n",
    "    elif chart_type == \"scatter\" and y_col:\n",
    "        df_result.plot(kind='scatter', x=x_col, y=y_col, ax=ax)\n",
    "    elif chart_type == \"pie\":\n",
    "        df_result.set_index(x_col).plot(kind='pie', y=df_result.columns[1], ax=ax, autopct='%1.1f%%')\n",
    "    elif chart_type == \"histogram\" and y_col:\n",
    "        df_result[y_col].plot(kind='hist', ax=ax, bins=10)\n",
    "    else:\n",
    "        print(\"⚠️ No suitable chart type detected or 'none' returned by LLM.\")\n",
    "\n",
    "    if chart_type != \"none\":\n",
    "        ax.set_title(f\"LLM: {chart_type} chart\")\n",
    "        plt.tight_layout()\n",
    "        plt.show()\n"
   ]
  },
  {
   "cell_type": "markdown",
   "id": "307cda21",
   "metadata": {},
   "source": [
    "# 4️⃣ Example Controller / Example Calls"
   ]
  },
  {
   "cell_type": "code",
   "execution_count": null,
   "id": "8264fa93",
   "metadata": {},
   "outputs": [],
   "source": [
    "def route_dataset(user_query: str) -> str:\n",
    "    chain = dataset_routing_prompt | llm | StrOutputParser()\n",
    "\n",
    "    prompt_input = {\n",
    "        \"query\": user_query,\n",
    "        \"finance_cols\": \", \".join(finance_columns),\n",
    "        \"inventory_cols\": \", \".join(inventory_columns),\n",
    "        \"spend_cols\": \", \".join(spend_columns),\n",
    "        \"sales_cols\": \", \".join(sales_columns),\n",
    "    }\n",
    "\n",
    "    result = chain.invoke(prompt_input).strip().lower()\n",
    "\n",
    "    if result not in {\"finance\", \"inventory\", \"spend\", \"sales\"}:\n",
    "        print(f\"⚠️ Unexpected dataset output: {result} — defaulting to 'finance'\")\n",
    "        return \"finance\"\n",
    "    \n",
    "    return result"
   ]
  },
  {
   "cell_type": "code",
   "execution_count": null,
   "id": "dbb29cf2",
   "metadata": {},
   "outputs": [],
   "source": [
    "agent_type_prompt = PromptTemplate.from_template(\"\"\"\n",
    "You are a routing assistant that decides how to process data queries.\n",
    "Given the following user query:\n",
    "\"{query}\"\n",
    "Decide whether it should be handled using SQL (for aggregation, filtering, grouping, numeric analysis),\n",
    "or using CSV (for visualization, listing, non-aggregated exploration).\n",
    "Read dates as DD-MM-YYYY.\n",
    "Respond only with: sql or csv.\n",
    "\"\"\")\n",
    "\n",
    "def route_agent_type(query: str) -> str:\n",
    "    chain = agent_type_prompt | llm | StrOutputParser()\n",
    "    result = chain.invoke({\"query\": query}).strip().lower()\n",
    "    if result not in {\"sql\", \"csv\"}:\n",
    "        return \"csv\"\n",
    "    return result"
   ]
  },
  {
   "cell_type": "code",
   "execution_count": null,
   "id": "8f752a79",
   "metadata": {},
   "outputs": [],
   "source": [
    "def master_agent(user_query):\n",
    "    dataset = route_dataset(user_query)\n",
    "    agent_type = route_agent_type(user_query)\n",
    "\n",
    "    agents = {\n",
    "        \"finance\": {\"sql\": finance_sql_agent, \"csv\": finance_csv_agent},\n",
    "        \"inventory\": {\"sql\": inventory_sql_agent, \"csv\": inventory_csv_agent},\n",
    "        \"spend\": {\"sql\": spend_sql_agent, \"csv\": spend_csv_agent},\n",
    "        \"sales\": {\"sql\": sales_sql_agent, \"csv\": sales_csv_agent},\n",
    "    }\n",
    "\n",
    "    # Inject grounding for spend queries\n",
    "    if dataset == \"spend\" and agent_type == \"sql\":\n",
    "        user_query = f\"{user_query}\\n\\n{PACKAGING_KNOWLEDGE}\"\n",
    "\n",
    "    agent = agents[dataset][agent_type]\n",
    "    return agent.invoke(user_query)"
   ]
  },
  {
   "cell_type": "markdown",
   "id": "c7839bf0",
   "metadata": {},
   "source": [
    "# 5️⃣ Improved SQL Extractor + Example Usage"
   ]
  },
  {
   "cell_type": "code",
   "execution_count": null,
   "id": "e99b013d",
   "metadata": {},
   "outputs": [],
   "source": [
    "import matplotlib.ticker as mticker\n",
    "\n",
    "def visualization_tool(user_query, df_result):\n",
    "    chart_type = classify_visualization_type(user_query, df_result)\n",
    "    print(f\"🔍 LLM-chosen chart type: {chart_type}\")\n",
    "\n",
    "    x_col = df_result.columns[0]\n",
    "    y_col = df_result.columns[1] if len(df_result.columns) > 1 else None\n",
    "\n",
    "    fig, ax = plt.subplots(figsize=(12, 8))\n",
    "\n",
    "    if chart_type == \"bar\" and y_col:\n",
    "        df_result.plot(kind='bar', x=x_col, y=y_col, ax=ax)\n",
    "    elif chart_type == \"line\" and y_col:\n",
    "        df_result.plot(kind='line', x=x_col, y=y_col, ax=ax)\n",
    "    elif chart_type == \"scatter\" and y_col:\n",
    "        df_result.plot(kind='scatter', x=x_col, y=y_col, ax=ax)\n",
    "    elif chart_type == \"pie\":\n",
    "        # 🔥 Keep only positive values\n",
    "        df_result = df_result[df_result[y_col] > 0]\n",
    "\n",
    "        # 🔥 Limit to top 15 slices\n",
    "        if len(df_result) > 15:\n",
    "            df_result = df_result.nlargest(15, y_col)\n",
    "\n",
    "        # 🔥 Plot pie WITHOUT labels on slices\n",
    "        df_result.set_index(x_col).plot(\n",
    "            kind='pie',\n",
    "            y=y_col,\n",
    "            ax=ax,\n",
    "            labels=None,  # no labels on slices\n",
    "            autopct='%1.1f%%',\n",
    "            legend=False\n",
    "        )\n",
    "\n",
    "        # 🔥 Place legend outside\n",
    "        ax.legend(\n",
    "            labels=df_result[x_col],\n",
    "            loc='center left',\n",
    "            bbox_to_anchor=(1.0, 0.5),\n",
    "            title=x_col\n",
    "        )\n",
    "\n",
    "    elif chart_type == \"histogram\" and y_col:\n",
    "        df_result[y_col].plot(kind='hist', ax=ax, bins=10)\n",
    "    else:\n",
    "        print(\"⚠️ No suitable chart type detected or 'none' returned by LLM.\")\n",
    "\n",
    "    if chart_type != \"none\":\n",
    "        ax.set_title(f\"LLM: {chart_type} chart\")\n",
    "        if chart_type not in [\"pie\"]:\n",
    "            ax.get_yaxis().set_major_formatter(mticker.FuncFormatter(lambda x, p: format(int(x), ',')))\n",
    "        plt.tight_layout()\n",
    "        plt.show()\n"
   ]
  },
  {
   "cell_type": "code",
   "execution_count": null,
   "id": "9de78294",
   "metadata": {},
   "outputs": [],
   "source": [
    "sales_columns = list(sales_df.columns)\n",
    "columns_str = \"\\n\".join([f'- \"{col}\"' for col in sales_columns])\n",
    "\n",
    "# Build the dynamic prompt\n",
    "sql_prompt_template = f\"\"\"\n",
    "You are an expert data analyst.\n",
    "\n",
    "Here is the database schema:\n",
    "\n",
    "Table: sales\n",
    "Columns: \n",
    "{columns_str}\n",
    "\n",
    "DO NOT invent any new tables.\n",
    "Only use columns from sales table.\n",
    "IMPORTANT: SQLite does NOT support strftime('%q').  \n",
    "To compute quarter, use CASE WHEN on strftime('%m', \"Sales Invoice Date\").\n",
    "\n",
    "Given the following user question, generate a correct SQLite SQL query using this schema.\n",
    "DO NOT include any explanations.\n",
    "DO NOT wrap in ```sql block.\n",
    "Just output raw SQL.\n",
    "\n",
    "Question: {{question}}\n",
    "\n",
    "SQL Query:\n",
    "\"\"\""
   ]
  },
  {
   "cell_type": "code",
   "execution_count": null,
   "id": "8d500dd5",
   "metadata": {},
   "outputs": [],
   "source": [
    "sql_prompt = PromptTemplate.from_template(sql_prompt_template)"
   ]
  },
  {
   "cell_type": "code",
   "execution_count": null,
   "id": "9e1187d7",
   "metadata": {},
   "outputs": [],
   "source": [
    "sql_chain = sql_prompt | llm | StrOutputParser()"
   ]
  },
  {
   "cell_type": "markdown",
   "id": "c098819d",
   "metadata": {},
   "source": [
    "## TESTING"
   ]
  },
  {
   "cell_type": "code",
   "execution_count": null,
   "id": "46f126e5",
   "metadata": {},
   "outputs": [],
   "source": [
    "sql_query = sql_chain.invoke({\"question\": \"Show me monthly sales trend for Petform (Thailand) Ltd for 2024\"})\n",
    "print(sql_query)"
   ]
  },
  {
   "cell_type": "code",
   "execution_count": null,
   "id": "2589cc45",
   "metadata": {},
   "outputs": [],
   "source": [
    "df_result = pd.read_sql(sql_query, sales_engine)"
   ]
  },
  {
   "cell_type": "code",
   "execution_count": null,
   "id": "b94a81f3",
   "metadata": {},
   "outputs": [],
   "source": [
    "visualization_tool(\"Show me monthly sales trend for Petform (Thailand) Ltd for 2024\", df_result)"
   ]
  },
  {
   "cell_type": "code",
   "execution_count": null,
   "id": "535e41a3",
   "metadata": {},
   "outputs": [],
   "source": [
    "sql_query = sql_chain.invoke({\"question\": \"What is the total sales generated for Petform (Thailand) Ltd in 2024 for each quarter?\"})\n",
    "print(sql_query)"
   ]
  },
  {
   "cell_type": "code",
   "execution_count": null,
   "id": "d3e31e6b",
   "metadata": {},
   "outputs": [],
   "source": [
    "df_result = pd.read_sql(sql_query, sales_engine)"
   ]
  },
  {
   "cell_type": "code",
   "execution_count": null,
   "id": "cd7ffc07",
   "metadata": {},
   "outputs": [],
   "source": [
    "visualization_tool(\"What is the total sales generated for Petform (Thailand) Ltd in 2024 for each quarter?\", df_result)"
   ]
  },
  {
   "cell_type": "markdown",
   "id": "9a66e530",
   "metadata": {},
   "source": [
    "## SCATTERPLOT"
   ]
  },
  {
   "cell_type": "code",
   "execution_count": null,
   "id": "da6cb4c4",
   "metadata": {},
   "outputs": [],
   "source": [
    "question_5 = \"Show the relationship between Quantity MT and Invoice Net value.\"\n",
    "sql_query = sql_chain.invoke({\"question\": question_5})\n",
    "print(sql_query)"
   ]
  },
  {
   "cell_type": "code",
   "execution_count": null,
   "id": "84746312",
   "metadata": {},
   "outputs": [],
   "source": [
    "df_result = pd.read_sql(sql_query, sales_engine)"
   ]
  },
  {
   "cell_type": "code",
   "execution_count": null,
   "id": "bccd1d62",
   "metadata": {},
   "outputs": [],
   "source": [
    "visualization_tool(question_5, df_result)"
   ]
  },
  {
   "cell_type": "markdown",
   "id": "7fa06e45",
   "metadata": {},
   "source": [
    "## HISTOGRAM"
   ]
  },
  {
   "cell_type": "code",
   "execution_count": null,
   "id": "0fa675b7",
   "metadata": {},
   "outputs": [],
   "source": [
    "question_4 = \"Show the distribution of invoice net value for all sales in 2024 for each quarter\"\n",
    "sql_query = sql_chain.invoke({\"question\": question_4})\n",
    "print(sql_query)"
   ]
  },
  {
   "cell_type": "code",
   "execution_count": null,
   "id": "c10eec7a",
   "metadata": {},
   "outputs": [],
   "source": [
    "df_result = pd.read_sql(sql_query, sales_engine)\n",
    "visualization_tool(question_4, df_result)"
   ]
  },
  {
   "cell_type": "markdown",
   "id": "a426a4c0",
   "metadata": {},
   "source": [
    "## Pie Chart\n"
   ]
  },
  {
   "cell_type": "code",
   "execution_count": null,
   "id": "f4db3100",
   "metadata": {},
   "outputs": [],
   "source": [
    "question_3 = \"What is the sum of ending balance of SEVEN UP BOTTLING CO PLC for each month in 2024?\"\n",
    "sql_query = sql_chain.invoke({\"question\": question_3})\n",
    "print(sql_query)"
   ]
  },
  {
   "cell_type": "code",
   "execution_count": null,
   "id": "e9a23b2c",
   "metadata": {},
   "outputs": [],
   "source": [
    "df_result = pd.read_sql(sql_query, sales_engine)\n",
    "visualization_tool(question_3, df_result)"
   ]
  },
  {
   "cell_type": "markdown",
   "id": "440e1e69",
   "metadata": {},
   "source": [
    "## Multiple Files Queries"
   ]
  },
  {
   "cell_type": "code",
   "execution_count": null,
   "id": "7c3f5189",
   "metadata": {},
   "outputs": [],
   "source": []
  }
 ],
 "metadata": {
  "kernelspec": {
   "display_name": "eureka-env",
   "language": "python",
   "name": "python3"
  },
  "language_info": {
   "codemirror_mode": {
    "name": "ipython",
    "version": 3
   },
   "file_extension": ".py",
   "mimetype": "text/x-python",
   "name": "python",
   "nbconvert_exporter": "python",
   "pygments_lexer": "ipython3",
   "version": "3.13.3"
  }
 },
 "nbformat": 4,
 "nbformat_minor": 5
}
