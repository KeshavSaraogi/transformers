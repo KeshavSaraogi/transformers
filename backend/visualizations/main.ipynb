{
 "cells": [
  {
   "cell_type": "code",
   "execution_count": null,
   "metadata": {},
   "outputs": [],
   "source": [
    "import os\n",
    "\n",
    "from dotenv import load_dotenv\n",
    "load_dotenv()\n",
    "\n",
    "os.environ[\"OPENAI_API_KEY\"] = os.getenv(\"OPENAI_API_KEY\")"
   ]
  },
  {
   "cell_type": "code",
   "execution_count": null,
   "metadata": {},
   "outputs": [],
   "source": [
    "pip install langchain langchain-openai duckdb matplotlib pandas langgraph"
   ]
  },
  {
   "cell_type": "code",
   "execution_count": null,
   "metadata": {},
   "outputs": [],
   "source": [
    "import os\n",
    "import duckdb\n",
    "import pandas as pd\n",
    "import matplotlib.pyplot as plt\n",
    "from langchain_openai import ChatOpenAI\n",
    "from langchain.prompts import PromptTemplate\n",
    "from langchain.chains import LLMChain\n",
    "from langchain.tools import Tool\n",
    "from dotenv import load_dotenv\n",
    "\n",
    "from langgraph.prebuilt import create_react_agent\n"
   ]
  },
  {
   "cell_type": "code",
   "execution_count": null,
   "metadata": {},
   "outputs": [],
   "source": [
    "# CSV Paths\n",
    "finance_file = \"/Users/keshavsaraogi/Desktop/indorama/eureka-data/clean-csv/cleaned_finance_packaging.csv\"\n",
    "inventory_file = \"/Users/keshavsaraogi/Desktop/indorama/eureka-data/clean-csv/cleaned_inventory_packaging.csv\"\n",
    "spend_file = \"/Users/keshavsaraogi/Desktop/indorama/eureka-data/clean-csv/cleaned_spend_packaging.csv\"\n",
    "sales_file = \"/Users/keshavsaraogi/Desktop/indorama/eureka-data/clean-csv/cleaned_sales_packaging.csv\"\n",
    "\n",
    "# Shared DuckDB connection\n",
    "con = duckdb.connect(database=':memory:')\n",
    "\n",
    "# Register views\n",
    "con.execute(f\"CREATE VIEW sales AS SELECT * FROM read_csv_auto('{sales_file}')\")\n",
    "con.execute(f\"CREATE VIEW spend AS SELECT * FROM read_csv_auto('{spend_file}')\")\n",
    "con.execute(f\"CREATE VIEW inventory AS SELECT * FROM read_csv_auto('{inventory_file}')\")\n",
    "con.execute(f\"CREATE VIEW finance AS SELECT * FROM read_csv_auto('{finance_file}')\")"
   ]
  },
  {
   "cell_type": "code",
   "execution_count": null,
   "metadata": {},
   "outputs": [],
   "source": [
    "llm = ChatOpenAI(model=\"gpt-4o\", temperature=0)"
   ]
  },
  {
   "cell_type": "code",
   "execution_count": null,
   "metadata": {},
   "outputs": [],
   "source": [
    "sql_agent_prompt_prefix = \"\"\"\n",
    "You are a SQL expert agent following ReAct reasoning.\n",
    "\n",
    "- You must ALWAYS output Thought -> Action -> Observation -> Final Answer.\n",
    "- DO NOT output meta commentary.\n",
    "- After seeing Observation results (SQL query output), ALWAYS extract concrete values.\n",
    "- ALWAYS summarize the result table to answer the user’s original question directly.\n",
    "- NEVER say \"the query successfully identifies...\" — always give actual values.\n",
    "- DO NOT wrap SQL code in markdown formatting or backticks.\n",
    "- ONLY output valid SQL without formatting.\n",
    "- If column names contain spaces, enclose them in double quotes.\n",
    "- The SQL dialect is SQLite (compatible with DuckDB).\n",
    "- ALWAYS use the available tools (sql_db_query) to execute your queries.\n",
    "- If the question involves visualization — also use viz_tool.\n",
    "- NEVER just write SQL queries.\n",
    "- ALWAYS call the action sql_db_query with the query as input.\n",
    "- You are allowed to chain multiple queries to answer the question.\n",
    "- If you encounter repeated errors or cannot execute the SQL query, still follow the ReAct format.\n",
    "- When unable to answer, output:\n",
    "Thought: I am unable to answer.\n",
    "Final Answer: Unable to retrieve the data due to internal error.\n",
    "- Do not write freeform explanations.\n",
    "- Never write paragraphs describing failure.\n",
    "- NEVER output markdown formatting.\n",
    "- NEVER output queries inside triple backticks or code fences.\n",
    "\"\"\"\n"
   ]
  },
  {
   "cell_type": "code",
   "execution_count": null,
   "metadata": {},
   "outputs": [],
   "source": [
    "def run_sql_query(query: str) -> str:\n",
    "    query = query.strip()\n",
    "    if query.startswith(\"```sql\"):\n",
    "        query = query[6:].strip()\n",
    "    if query.startswith(\"```\"):\n",
    "        query = query[3:].strip()\n",
    "    if query.endswith(\"```\"):\n",
    "        query = query[:-3].strip()\n",
    "\n",
    "    print(\"\\n⚙️ Cleaned SQL:\\n\", query)\n",
    "\n",
    "    df = con.execute(query).df()\n",
    "    print(\"\\n📊 SQL Result:\\n\", df.head())\n",
    "    return df.to_string()\n",
    "\n",
    "sql_tool = Tool(\n",
    "    name=\"sql_db_query\",\n",
    "    func=run_sql_query,\n",
    "    description=\"Executes SQL queries on sales, spend, inventory, finance data.\"\n",
    ")"
   ]
  },
  {
   "cell_type": "code",
   "execution_count": null,
   "metadata": {},
   "outputs": [],
   "source": [
    "def visualize_sql_result(query: str) -> str:\n",
    "    query = query.strip()\n",
    "    if query.startswith(\"```sql\"):\n",
    "        query = query[6:].strip()\n",
    "    if query.startswith(\"```\"):\n",
    "        query = query[3:].strip()\n",
    "    if query.endswith(\"```\"):\n",
    "        query = query[:-3].strip()\n",
    "\n",
    "    print(\"\\n⚙️ SQL for Visualization:\\n\", query)\n",
    "\n",
    "    df = con.execute(query).df()\n",
    "    print(\"\\n📊 Data for Visualization:\\n\", df.head())\n",
    "\n",
    "    if 'Date' in df.columns[0] or 'date' in df.columns[0] or 'month' in df.columns[0].lower():\n",
    "        plt.figure(figsize=(10,6))\n",
    "        plt.plot(df.iloc[:,0], df.iloc[:,1], marker='o')\n",
    "    else:\n",
    "        df.plot(kind='bar', x=df.columns[0], y=df.columns[1], figsize=(10,6))\n",
    "\n",
    "    plt.title(\"Generated Chart\")\n",
    "    plt.xticks(rotation=45)\n",
    "    plt.tight_layout()\n",
    "    plt.savefig(\"auto_chart.png\")\n",
    "\n",
    "    return \"Chart saved as auto_chart.png\"\n",
    "\n",
    "viz_tool = Tool(\n",
    "    name=\"viz_tool\",\n",
    "    func=visualize_sql_result,\n",
    "    description=\"Generate charts from SQL query result.\"\n",
    ")\n"
   ]
  },
  {
   "cell_type": "code",
   "execution_count": null,
   "metadata": {},
   "outputs": [],
   "source": [
    "# Tools\n",
    "tools = [sql_tool, viz_tool]"
   ]
  },
  {
   "cell_type": "code",
   "execution_count": null,
   "metadata": {},
   "outputs": [],
   "source": [
    "from langgraph.prebuilt import create_react_agent\n",
    "\n",
    "graph = create_react_agent(\n",
    "    llm,\n",
    "    tools,\n",
    "    prompt=sql_agent_prompt_prefix\n",
    ")\n"
   ]
  },
  {
   "cell_type": "code",
   "execution_count": null,
   "metadata": {},
   "outputs": [],
   "source": [
    "response = graph.invoke({\"input\": \"Plot monthly sales trend from the sales data\"})\n",
    "print(response)"
   ]
  }
 ],
 "metadata": {
  "kernelspec": {
   "display_name": "eureka-env",
   "language": "python",
   "name": "python3"
  },
  "language_info": {
   "codemirror_mode": {
    "name": "ipython",
    "version": 3
   },
   "file_extension": ".py",
   "mimetype": "text/x-python",
   "name": "python",
   "nbconvert_exporter": "python",
   "pygments_lexer": "ipython3",
   "version": "3.10.16"
  }
 },
 "nbformat": 4,
 "nbformat_minor": 2
}
