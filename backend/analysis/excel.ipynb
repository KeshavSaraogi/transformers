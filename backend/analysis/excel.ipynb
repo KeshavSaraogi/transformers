{
 "cells": [
  {
   "cell_type": "code",
   "execution_count": 5,
   "metadata": {},
   "outputs": [
    {
     "name": "stdout",
     "output_type": "stream",
     "text": [
      "['_com.sap.ip.bi.xl.hiddensheet', 'Sheet1']\n"
     ]
    }
   ],
   "source": [
    "import pandas as pd\n",
    "\n",
    "xls = pd.ExcelFile(\"/Users/keshavsaraogi/Desktop/cpet_sales.xlsx\")\n",
    "print(xls.sheet_names)"
   ]
  },
  {
   "cell_type": "code",
   "execution_count": 3,
   "metadata": {},
   "outputs": [
    {
     "name": "stdout",
     "output_type": "stream",
     "text": [
      "  Company Code            Company Code.1      G/L Account G/L Account.1  \\\n",
      "0         NG10  Bevpak (Nigeria) Limited  OCOA/1000000010          Land   \n",
      "1         NG10  Bevpak (Nigeria) Limited  OCOA/1000000030     Buildings   \n",
      "2         NG10  Bevpak (Nigeria) Limited  OCOA/1000000030     Buildings   \n",
      "3         NG10  Bevpak (Nigeria) Limited  OCOA/1000000030     Buildings   \n",
      "4         NG10  Bevpak (Nigeria) Limited  OCOA/1000000030     Buildings   \n",
      "\n",
      "  Clearing Date Customer    Customer.1 Division Fixed Asset Fixed Asset.1  \\\n",
      "0             #        #  Not assigned        #   100000000  LDE-2023-001   \n",
      "1             #        #  Not assigned        #   200000000    BDO-2022-3   \n",
      "2             #        #  Not assigned        #   200000001   BDR-2012-26   \n",
      "3             #        #  Not assigned        #   200000002   BDR-2012-28   \n",
      "4             #        #  Not assigned        #   200000003   BDR-2012-30   \n",
      "\n",
      "   ...    Supplier.1 Cost Center      Cost Center.1 Calendar Month  \\\n",
      "0  ...  Not assigned      IVL1/#  IVL1/Not assigned              #   \n",
      "1  ...  Not assigned      IVL1/#  IVL1/Not assigned              #   \n",
      "2  ...  Not assigned      IVL1/#  IVL1/Not assigned              #   \n",
      "3  ...  Not assigned      IVL1/#  IVL1/Not assigned              #   \n",
      "4  ...  Not assigned      IVL1/#  IVL1/Not assigned              #   \n",
      "\n",
      "  Calendar Quarter Calendar Year Starting Balance in Global Currency  \\\n",
      "0                #             #                                 0.0   \n",
      "1                #             #                                 0.0   \n",
      "2                #             #                                 0.0   \n",
      "3                #             #                                 0.0   \n",
      "4                #             #                                 0.0   \n",
      "\n",
      "  Debit Balance in Global Currency Credit Balance in Global Currency  \\\n",
      "0                        278464.28                               0.0   \n",
      "1                         71988.55                               0.0   \n",
      "2                          1231.67                               0.0   \n",
      "3                          1660.69                               0.0   \n",
      "4                           282.42                               0.0   \n",
      "\n",
      "  Ending Balance in Global Currency  \n",
      "0                         278464.28  \n",
      "1                          71988.55  \n",
      "2                           1231.67  \n",
      "3                           1660.69  \n",
      "4                            282.42  \n",
      "\n",
      "[5 rows x 27 columns]\n",
      "(118627, 27)\n"
     ]
    }
   ],
   "source": [
    "df = pd.read_excel(xls, sheet_name=\"Sheet1\")\n",
    "print(df.head())\n",
    "print(df.shape)"
   ]
  },
  {
   "cell_type": "code",
   "execution_count": 4,
   "metadata": {},
   "outputs": [],
   "source": [
    "df.to_csv(\"/Users/keshavsaraogi/Desktop/finance_packaging.csv\", index=False)"
   ]
  },
  {
   "cell_type": "code",
   "execution_count": null,
   "metadata": {},
   "outputs": [],
   "source": []
  }
 ],
 "metadata": {
  "kernelspec": {
   "display_name": "eureka-env",
   "language": "python",
   "name": "python3"
  },
  "language_info": {
   "codemirror_mode": {
    "name": "ipython",
    "version": 3
   },
   "file_extension": ".py",
   "mimetype": "text/x-python",
   "name": "python",
   "nbconvert_exporter": "python",
   "pygments_lexer": "ipython3",
   "version": "3.10.16"
  }
 },
 "nbformat": 4,
 "nbformat_minor": 2
}
