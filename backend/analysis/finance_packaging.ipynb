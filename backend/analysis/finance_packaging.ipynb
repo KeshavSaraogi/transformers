{
 "cells": [
  {
   "cell_type": "code",
   "execution_count": null,
   "metadata": {},
   "outputs": [],
   "source": [
    "import pandas as pd\n",
    "\n",
    "df = pd.read_csv('/Users/keshavsaraogi/Desktop/indorama/eureka-data/clean-csv/cleaned_finance_packaging.csv')"
   ]
  },
  {
   "cell_type": "code",
   "execution_count": null,
   "metadata": {},
   "outputs": [],
   "source": [
    "df.head(15)"
   ]
  },
  {
   "cell_type": "code",
   "execution_count": null,
   "metadata": {},
   "outputs": [],
   "source": [
    "df.info()"
   ]
  },
  {
   "cell_type": "code",
   "execution_count": null,
   "metadata": {},
   "outputs": [],
   "source": [
    "df.describe()"
   ]
  },
  {
   "cell_type": "code",
   "execution_count": null,
   "metadata": {},
   "outputs": [],
   "source": [
    "missing_percent = df.isnull().mean() * 100\n",
    "missing_percent = missing_percent.sort_values(ascending=False)\n",
    "\n",
    "print(missing_percent.round(2))"
   ]
  },
  {
   "cell_type": "code",
   "execution_count": null,
   "metadata": {},
   "outputs": [],
   "source": [
    "import pandas as pd\n",
    "\n",
    "nan_counts = df.isnull().sum()\n",
    "nan_counts = nan_counts[nan_counts > 0]\n",
    "\n",
    "hash_counts = (\n",
    "    df.select_dtypes(include='object')\n",
    "    .apply(lambda col: col.astype(str).str.count('#').sum())\n",
    ")\n",
    "hash_counts = hash_counts[hash_counts > 0]\n",
    "\n",
    "combined = pd.DataFrame({\n",
    "    \"NaN_Count\": nan_counts,\n",
    "    \"#_Count\": hash_counts\n",
    "}).fillna(0).astype(int)\n",
    "\n",
    "combined[\"Total_Issues\"] = combined[\"NaN_Count\"] + combined[\"#_Count\"]\n",
    "combined = combined.sort_values(\"Total_Issues\", ascending=False)\n",
    "\n",
    "print(\"📊 Columns with NaN or '#' values and their counts:\")\n",
    "print(combined)\n"
   ]
  },
  {
   "cell_type": "code",
   "execution_count": null,
   "metadata": {},
   "outputs": [],
   "source": [
    "columns_to_clean = [\"Customer\", \"Division\", \"Material\", \"Plant\", \"Supplier\"]\n",
    "\n",
    "df.columns = df.columns.str.strip()\n",
    "\n",
    "# Replace '#' with 'NAN' in the specified columns\n",
    "for col in columns_to_clean:\n",
    "    if col in df.columns:\n",
    "        df[col] = df[col].astype(str).replace('#', 'NAN')\n"
   ]
  },
  {
   "cell_type": "code",
   "execution_count": null,
   "metadata": {},
   "outputs": [],
   "source": [
    "columns_to_clean = [\"Plant.1\", \"Supplier.1\", \"Material.1\"]\n",
    "\n",
    "df.columns = df.columns.str.strip()\n",
    "\n",
    "# Replace '#' with 'NAN' in the specified columns\n",
    "for col in columns_to_clean:\n",
    "    if col in df.columns:\n",
    "        df[col] = df[col].astype(str).replace('Not assigned', 'NAN')"
   ]
  },
  {
   "cell_type": "code",
   "execution_count": null,
   "metadata": {},
   "outputs": [],
   "source": [
    "for col in df.columns:\n",
    "    print(f\"📌 Column: {col}\")\n",
    "    print(f\"🔢 Unique Values ({df[col].nunique(dropna=False)}):\")\n",
    "    print(df[col].unique())\n",
    "    print(\"-\" * 80)"
   ]
  },
  {
   "cell_type": "code",
   "execution_count": null,
   "metadata": {},
   "outputs": [],
   "source": [
    "## drop values where clearing_date has a # value\n",
    "\n",
    "df.columns = df.columns.str.strip()\n",
    "df = df[df['Clearing Date'] != '#']\n",
    "df = df.reset_index(drop=True)"
   ]
  },
  {
   "cell_type": "code",
   "execution_count": null,
   "metadata": {},
   "outputs": [],
   "source": [
    "## columns to drop\n",
    "\n",
    "columns_to_drop = ['Calendar Month', 'Calendar Quarter', 'Calendar Year', \"Fixed Asset\"]\n",
    "df.columns = df.columns.str.strip()\n",
    "df = df.drop(columns=[col for col in columns_to_drop if col in df.columns])\n",
    "\n",
    "print(\"✅ Dropped columns:\", [col for col in columns_to_drop if col in df.columns])"
   ]
  },
  {
   "cell_type": "code",
   "execution_count": null,
   "metadata": {},
   "outputs": [],
   "source": [
    "df.columns.to_list()"
   ]
  },
  {
   "cell_type": "code",
   "execution_count": null,
   "metadata": {},
   "outputs": [],
   "source": [
    "df.rename(columns={\n",
    "    'Company Code': 'Company ID',\n",
    "    'Company Code.1': 'Company Name',\n",
    "    'G/L Account': 'G/L Account ID',\n",
    "    'G/L Account.1': 'G/L Account Name',\n",
    "    'Customer': 'Customer ID',\n",
    "    'Customer.1': 'Customer Name',\n",
    "    'Fixed Asset.1': 'Fixed Asset ID',\n",
    "    'G/L Account Type.1': 'G/L Account Type Description',\n",
    "    'Material': 'Material ID',\n",
    "    'Material.1': 'Material Name',\n",
    "    'Plant': 'Plant ID',\n",
    "    'Plant.1': 'Plant Name',\n",
    "    'Supplier': 'Supplier ID',\n",
    "    'Supplier.1': 'Supplier Name',\n",
    "    'Cost Center': 'Cost Center ID',\n",
    "    'Cost Center.1': 'Cost Center Name',\n",
    "}, inplace=True)"
   ]
  },
  {
   "cell_type": "code",
   "execution_count": null,
   "metadata": {},
   "outputs": [],
   "source": [
    "df['Clearing Date'] = pd.to_datetime(df['Clearing Date'], format=\"%d.%m.%Y\", errors='coerce')"
   ]
  },
  {
   "cell_type": "code",
   "execution_count": null,
   "metadata": {},
   "outputs": [],
   "source": [
    "df['Clearing Date'] = df['Clearing Date'].dt.strftime('%Y-%m-%d')"
   ]
  },
  {
   "cell_type": "code",
   "execution_count": null,
   "metadata": {},
   "outputs": [],
   "source": [
    "output_path = \"/Users/keshavsaraogi/Desktop/indorama/eureka-data/clean-csv/cleaned_finance_packaging.csv\"\n",
    "\n",
    "df.to_csv(output_path, index=False, encoding=\"utf-8-sig\")\n",
    "\n",
    "print(f\"✅ DataFrame saved to: {output_path}\")"
   ]
  },
  {
   "cell_type": "code",
   "execution_count": null,
   "metadata": {},
   "outputs": [],
   "source": [
    "column_sum = df['Debit Balance in Global Currency'].sum()\n",
    "\n",
    "print(column_sum)"
   ]
  },
  {
   "cell_type": "code",
   "execution_count": null,
   "metadata": {},
   "outputs": [],
   "source": []
  },
  {
   "cell_type": "code",
   "execution_count": null,
   "metadata": {},
   "outputs": [],
   "source": []
  },
  {
   "cell_type": "code",
   "execution_count": null,
   "metadata": {},
   "outputs": [],
   "source": []
  },
  {
   "cell_type": "code",
   "execution_count": null,
   "metadata": {},
   "outputs": [],
   "source": []
  },
  {
   "cell_type": "code",
   "execution_count": null,
   "metadata": {},
   "outputs": [],
   "source": []
  }
 ],
 "metadata": {
  "kernelspec": {
   "display_name": "eureka-env",
   "language": "python",
   "name": "python3"
  },
  "language_info": {
   "codemirror_mode": {
    "name": "ipython",
    "version": 3
   },
   "file_extension": ".py",
   "mimetype": "text/x-python",
   "name": "python",
   "nbconvert_exporter": "python",
   "pygments_lexer": "ipython3",
   "version": "3.10.16"
  }
 },
 "nbformat": 4,
 "nbformat_minor": 2
}
