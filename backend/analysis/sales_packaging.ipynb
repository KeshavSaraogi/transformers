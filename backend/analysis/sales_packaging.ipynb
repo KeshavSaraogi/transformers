{
 "cells": [
  {
   "cell_type": "code",
   "execution_count": null,
   "metadata": {},
   "outputs": [],
   "source": [
    "!pip install seaborn"
   ]
  },
  {
   "cell_type": "code",
   "execution_count": null,
   "metadata": {},
   "outputs": [],
   "source": [
    "import pandas as pd\n",
    "\n",
    "df = pd.read_csv('/Users/keshavsaraogi/Desktop/indorama/eureka-data/raw-csv/sales_packaging.csv')"
   ]
  },
  {
   "cell_type": "code",
   "execution_count": null,
   "metadata": {},
   "outputs": [],
   "source": [
    "# df.head(15)"
   ]
  },
  {
   "cell_type": "code",
   "execution_count": null,
   "metadata": {},
   "outputs": [],
   "source": [
    "df.info()"
   ]
  },
  {
   "cell_type": "code",
   "execution_count": null,
   "metadata": {},
   "outputs": [],
   "source": [
    "df.describe()"
   ]
  },
  {
   "cell_type": "code",
   "execution_count": null,
   "metadata": {},
   "outputs": [],
   "source": [
    "missing_percent = df.isnull().mean() * 100\n",
    "missing_percent = missing_percent.sort_values(ascending=False)\n",
    "\n",
    "print(missing_percent.round(2))"
   ]
  },
  {
   "cell_type": "code",
   "execution_count": null,
   "metadata": {},
   "outputs": [],
   "source": [
    "import pandas as pd\n",
    "\n",
    "nan_counts = df.isnull().sum()\n",
    "nan_counts = nan_counts[nan_counts > 0]\n",
    "\n",
    "hash_counts = (\n",
    "    df.select_dtypes(include='object')\n",
    "    .apply(lambda col: col.astype(str).str.count('#').sum())\n",
    ")\n",
    "hash_counts = hash_counts[hash_counts > 0]\n",
    "\n",
    "combined = pd.DataFrame({\n",
    "    \"NaN_Count\": nan_counts,\n",
    "    \"#_Count\": hash_counts\n",
    "}).fillna(0).astype(int)\n",
    "\n",
    "combined[\"Total_Issues\"] = combined[\"NaN_Count\"] + combined[\"#_Count\"]\n",
    "combined = combined.sort_values(\"Total_Issues\", ascending=False)\n",
    "\n",
    "print(\"📊 Columns with NaN or '#' values and their counts:\")\n",
    "print(combined)\n"
   ]
  },
  {
   "cell_type": "code",
   "execution_count": null,
   "metadata": {},
   "outputs": [],
   "source": [
    "for col in df.columns:\n",
    "    print(f\"📌 Column: {col}\")\n",
    "    print(f\"🔢 Unique Values ({df[col].nunique(dropna=False)}):\")\n",
    "    print(df[col].unique())\n",
    "    print(\"-\" * 80)"
   ]
  },
  {
   "cell_type": "code",
   "execution_count": null,
   "metadata": {},
   "outputs": [],
   "source": [
    "df.columns.to_list()"
   ]
  },
  {
   "cell_type": "markdown",
   "metadata": {},
   "source": [
    "## Handling Missing Values"
   ]
  },
  {
   "cell_type": "code",
   "execution_count": null,
   "metadata": {},
   "outputs": [],
   "source": [
    "df.columns.to_list()"
   ]
  },
  {
   "cell_type": "code",
   "execution_count": null,
   "metadata": {},
   "outputs": [],
   "source": [
    "df.rename(columns={\n",
    "    \"Company Code\": \"Company ID\",\n",
    "    \"Sales Organization\": \"Sales Organization ID\",\n",
    "    \"Plant\": \"Plant ID\",\n",
    "    \"Material\": \"Material ID\",\n",
    "    \"Incoterms 1\": \"Incoterms Type\",\n",
    "    \"Tax amount\": \"Tax Amount\",\n",
    "    \"Sales Invoice Price\\n(USD/MT)\": \"Sales Invoice Price(USD/MT)\",\n",
    "    \"Marine Insurance\\n(USD/MT)\":\"Marine Insurance(USD/MT)\",\n",
    "    \"Freight Charge road(USD/MT)\": \"Freight Charge Road(USD/MT)\",\n",
    "    \"FOBBING Charge sea O/B(USD/MT)\": \"Fobbing Charge Sea O/B(USD/MT)\",\n",
    "    \"Destination Charge sea(USD/MT)\": \"Destination Charge Sea(USD/MT)\",\n",
    "    \"Freight charge Air(USD/MT)\": \"Freight Charge Air(USD/MT)\",\n",
    "    \"Credit Insurance Cost\\n(USD/MT)\": \"Credit Insurance Cost(USD/MT)\",\n",
    "    \"Interest Cost (CC)\\n(USD/MT)\": \"Interest Cost (CC)(USD/MT)\",\n",
    "    \"Power Fuel Utilities\\n(USD/MT)\": \"Power Fuel Utilities(USD/MT)\",\n",
    "    \"Packing Cost\\n(USD/MT)\": \"Packing Cost(USD/MT)\",\n",
    "    \"MB Cost\\n(USD/MT)\": \"MB Cost(USD/MT)\",\n",
    "    \"Export Incentive\\n(USD/MT)\": \"Export Incentive(USD/MT)\",\n",
    "    \n",
    "}, inplace=True)"
   ]
  },
  {
   "cell_type": "code",
   "execution_count": null,
   "metadata": {},
   "outputs": [],
   "source": [
    "# Convert to datetime WITHOUT custom format\n",
    "df['Sales Invoice Date'] = pd.to_datetime(df['Sales Invoice Date'], errors='coerce')\n",
    "\n",
    "# (Optional) Format back to string as 'YYYY-MM-DD' (if needed for export or SQL)\n",
    "df['Sales Invoice Date'] = df['Sales Invoice Date'].dt.strftime('%Y-%m-%d')\n"
   ]
  },
  {
   "cell_type": "code",
   "execution_count": null,
   "metadata": {},
   "outputs": [],
   "source": [
    "output_path = \"/Users/keshavsaraogi/Desktop/indorama/eureka-data/clean-csv/cleaned_sales_packaging.csv\"\n",
    "df.to_csv(output_path, index=False, encoding=\"utf-8-sig\")\n",
    "\n",
    "print(f\"✅ DataFrame saved to: {output_path}\")"
   ]
  },
  {
   "cell_type": "code",
   "execution_count": null,
   "metadata": {},
   "outputs": [],
   "source": [
    "# Convert 'Sales Invoice Date' to datetime if not already\n",
    "df['Sales Invoice Date'] = pd.to_datetime(df['Sales Invoice Date'], errors='coerce')\n",
    "\n",
    "# Filter for the specific customer and year\n",
    "df_filtered = df[\n",
    "    (df['Customer'] == 'SEVEN UP BOTTLING CO PLC') & \n",
    "    (df['Sales Invoice Date'].dt.year == 2024)\n",
    "]\n",
    "\n",
    "# Create a 'month' column in YYYY-MM format\n",
    "df_filtered['month'] = df_filtered['Sales Invoice Date'].dt.to_period('M').astype(str)\n",
    "\n",
    "# Calculate profit and group by month\n",
    "result = (\n",
    "    df_filtered\n",
    "    .groupby('month')\n",
    "    .apply(lambda x: x['Invoice Net value'].sum() - x['Tax Amount'].sum())\n",
    "    .reset_index(name='profit')\n",
    "    .sort_values('month')\n",
    ")\n",
    "\n",
    "print(result)"
   ]
  },
  {
   "cell_type": "markdown",
   "metadata": {},
   "source": [
    "# FORMULAS FOR SALES PACKAGING"
   ]
  },
  {
   "cell_type": "markdown",
   "metadata": {},
   "source": [
    "## LIST OF FORMULAS I WANT:\n",
    "\n",
    "1. Profit Margin\n",
    "2. Profit Margin Ratio\n",
    "3. Lower Bound\n",
    "4. Upper Bound\n",
    "5. Outliers\n",
    "6. IQR\n",
    "7. EBIDITA\n",
    "8. Quartile"
   ]
  },
  {
   "cell_type": "code",
   "execution_count": null,
   "metadata": {},
   "outputs": [],
   "source": [
    "import pandas as pd\n",
    "\n",
    "# First, define all cost columns\n",
    "cost_columns_per_mt = [\n",
    "    'Marine Insurance(USD/MT)',\n",
    "    'Freight Charge Road(USD/MT)',\n",
    "    'Freight Charge Sea(USD/MT)',\n",
    "    'Fobbing Charge Sea O/B(USD/MT)',\n",
    "    'Destination Charge Sea(USD/MT)',\n",
    "    'Freight Charge Air(USD/MT)',\n",
    "    'Credit Insurance Cost(USD/MT)',\n",
    "    'Interest Cost (CC)(USD/MT)',\n",
    "    'Power Fuel Utilities(USD/MT)',\n",
    "    'Packing Cost(USD/MT)',\n",
    "    'MB Cost(USD/MT)'\n",
    "]\n",
    "\n",
    "# Calculate total cost per MT\n",
    "df['Total Cost per MT'] = df[cost_columns_per_mt].sum(axis=1)\n",
    "\n",
    "# Total cost for the entire quantity\n",
    "df['Total Cost'] = df['Quantity MT'] * df['Total Cost per MT']\n",
    "\n",
    "df['Export Incentive Reduction'] = df['Quantity MT'] * df['Export Incentive(USD/MT)']\n",
    "df['Adjusted Total Cost'] = df['Total Cost'] - df['Export Incentive Reduction']\n",
    "\n",
    "# Profit (Revenue - Cost)\n",
    "df['Profit'] = df['Invoice Net value'] - df['Adjusted Total Cost']\n",
    "\n",
    "# Profit Margin Ratio\n",
    "df['Profit Margin Ratio (%)'] = (df['Profit'] / df['Invoice Net value']) * 100\n",
    "\n",
    "print(df[['Invoice Net value', 'Profit', 'Profit Margin Ratio (%)']].head())\n"
   ]
  },
  {
   "cell_type": "code",
   "execution_count": null,
   "metadata": {},
   "outputs": [],
   "source": [
    "# Calculate IQR for Profit Margin Ratio (%)\n",
    "q1 = df['Profit Margin Ratio (%)'].quantile(0.25)\n",
    "q3 = df['Profit Margin Ratio (%)'].quantile(0.75)\n",
    "iqr = q3 - q1\n",
    "\n",
    "# Calculate bounds\n",
    "lower_bound = q1 - 1.5 * iqr\n",
    "upper_bound = q3 + 1.5 * iqr\n",
    "\n",
    "print(f\"Q1 (25th percentile): {q1:.2f}%\")\n",
    "print(f\"Q3 (75th percentile): {q3:.2f}%\")\n",
    "print(f\"IQR: {iqr:.2f}%\")\n",
    "print(f\"Lower Bound: {lower_bound:.2f}%\")\n",
    "print(f\"Upper Bound: {upper_bound:.2f}%\")\n",
    "\n",
    "# Identify outliers\n",
    "df['Is Outlier'] = ~df['Profit Margin Ratio (%)'].between(lower_bound, upper_bound)\n",
    "\n",
    "# View number of outliers\n",
    "outlier_count = df['Is Outlier'].sum()\n",
    "print(f\"Number of outliers: {outlier_count}\")\n",
    "\n",
    "# Optional: view few outlier rows\n",
    "outliers_df = df[df['Is Outlier']]\n",
    "print(outliers_df[['Invoice Net value', 'Profit', 'Profit Margin Ratio (%)']].head())\n"
   ]
  },
  {
   "cell_type": "code",
   "execution_count": null,
   "metadata": {},
   "outputs": [],
   "source": [
    "import matplotlib.pyplot as plt\n",
    "import seaborn as sns\n",
    "\n",
    "sns.histplot(df['Profit Margin Ratio (%)'], bins=50, kde=True)\n",
    "plt.title(\"Profit Margin Distribution\")\n",
    "plt.show()"
   ]
  },
  {
   "cell_type": "code",
   "execution_count": null,
   "metadata": {},
   "outputs": [],
   "source": [
    "sns.scatterplot(x='Invoice Net value', y='Profit Margin Ratio (%)', data=df)\n",
    "plt.title(\"Volume vs Margin\")\n",
    "plt.show()"
   ]
  },
  {
   "cell_type": "code",
   "execution_count": null,
   "metadata": {},
   "outputs": [],
   "source": [
    "df['Month'] = df['Sales Invoice Date'].dt.to_period('M')\n",
    "monthly_margin = df.groupby('Month')['Profit Margin Ratio (%)'].mean()\n",
    "monthly_margin.plot(figsize=(10,6), marker='o', title='Monthly Profit Margin Trend')\n",
    "plt.show()"
   ]
  },
  {
   "cell_type": "code",
   "execution_count": null,
   "metadata": {},
   "outputs": [],
   "source": [
    "cost_cols = [\n",
    "    'Marine Insurance(USD/MT)', 'Freight Charge Road(USD/MT)',\n",
    "    'Freight Charge Sea(USD/MT)', 'Freight Charge Air(USD/MT)',\n",
    "    'Credit Insurance Cost(USD/MT)', 'Interest Cost (CC)(USD/MT)',\n",
    "    'Power Fuel Utilities(USD/MT)', 'Packing Cost(USD/MT)', 'MB Cost(USD/MT)'\n",
    "]\n",
    "\n",
    "corr = df[cost_cols + ['Profit Margin Ratio (%)']].corr()\n",
    "sns.heatmap(corr, annot=True, cmap='coolwarm')\n",
    "plt.title(\"Correlation Matrix: Costs vs Margin\")\n",
    "plt.show()"
   ]
  }
 ],
 "metadata": {
  "kernelspec": {
   "display_name": "eureka-env",
   "language": "python",
   "name": "python3"
  },
  "language_info": {
   "codemirror_mode": {
    "name": "ipython",
    "version": 3
   },
   "file_extension": ".py",
   "mimetype": "text/x-python",
   "name": "python",
   "nbconvert_exporter": "python",
   "pygments_lexer": "ipython3",
   "version": "3.10.16"
  }
 },
 "nbformat": 4,
 "nbformat_minor": 2
}
