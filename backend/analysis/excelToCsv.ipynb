{
 "cells": [
  {
   "cell_type": "code",
   "execution_count": 9,
   "metadata": {},
   "outputs": [
    {
     "name": "stdout",
     "output_type": "stream",
     "text": [
      "✅ Converted and saved: /Users/keshavsaraogi/Desktop/finance_packaging.csv\n"
     ]
    }
   ],
   "source": [
    "import pandas as pd\n",
    "import os\n",
    "\n",
    "def excel_to_csv_same_name(excel_path):\n",
    "    # Get directory and filename\n",
    "    directory, filename = os.path.split(excel_path)\n",
    "    base_name = os.path.splitext(filename)[0]\n",
    "    \n",
    "    # Output CSV path\n",
    "    csv_path = os.path.join(directory, f\"{base_name}.csv\")\n",
    "\n",
    "    # Read the first (or only) sheet\n",
    "    df = pd.read_excel(excel_path, sheet_name=0)\n",
    "    \n",
    "    # Write to CSV\n",
    "    df.to_csv(csv_path, index=False, encoding=\"utf-8-sig\")\n",
    "\n",
    "    print(f\"✅ Converted and saved: {csv_path}\")\n",
    "\n",
    "# Example usage\n",
    "excel_path = \"/Users/keshavsaraogi/Desktop/finance_packaging.xlsx\"\n",
    "excel_to_csv_same_name(excel_path)\n"
   ]
  },
  {
   "cell_type": "code",
   "execution_count": 11,
   "metadata": {},
   "outputs": [
    {
     "name": "stdout",
     "output_type": "stream",
     "text": [
      "✅ Sheet 'Sheet1' converted and saved as: /Users/keshavsaraogi/Desktop/cpet_sales.csv\n"
     ]
    }
   ],
   "source": [
    "import pandas as pd\n",
    "import os\n",
    "\n",
    "def excel_to_csv_specific_sheet(excel_path, sheet_name):\n",
    "    # Get directory and filename\n",
    "    directory, filename = os.path.split(excel_path)\n",
    "    base_name = os.path.splitext(filename)[0]\n",
    "    \n",
    "    # Output CSV path (same name as Excel file)\n",
    "    csv_path = os.path.join(directory, f\"{base_name}.csv\")\n",
    "\n",
    "    # Read the specified sheet\n",
    "    df = pd.read_excel(excel_path, sheet_name=sheet_name)\n",
    "    \n",
    "    # Write to CSV\n",
    "    df.to_csv(csv_path, index=False, encoding=\"utf-8-sig\")\n",
    "\n",
    "    print(f\"✅ Sheet '{sheet_name}' converted and saved as: {csv_path}\")\n",
    "\n",
    "# Example usage\n",
    "excel_path = \"/Users/keshavsaraogi/Desktop/cpet_sales.xlsx\"\n",
    "sheet_name = \"Sheet1\"\n",
    "excel_to_csv_specific_sheet(excel_path, sheet_name)\n"
   ]
  }
 ],
 "metadata": {
  "kernelspec": {
   "display_name": "eureka-env",
   "language": "python",
   "name": "python3"
  },
  "language_info": {
   "codemirror_mode": {
    "name": "ipython",
    "version": 3
   },
   "file_extension": ".py",
   "mimetype": "text/x-python",
   "name": "python",
   "nbconvert_exporter": "python",
   "pygments_lexer": "ipython3",
   "version": "3.10.16"
  }
 },
 "nbformat": 4,
 "nbformat_minor": 2
}
